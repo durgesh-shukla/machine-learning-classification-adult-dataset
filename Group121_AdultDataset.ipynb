{
 "cells": [
  {
   "cell_type": "markdown",
   "id": "8eaeeddd",
   "metadata": {},
   "source": [
    "------------------------------------------------------------------------------------------------"
   ]
  },
  {
   "cell_type": "markdown",
   "id": "7bde2b39",
   "metadata": {},
   "source": [
    "<h3>Dataset: </h3>\n",
    "adult.csv\n",
    "\n",
    "<h3>Objective: </h3>\n",
    "Build a classification model that predicts if a person makes over 50k or not"
   ]
  },
  {
   "cell_type": "markdown",
   "id": "918e5614",
   "metadata": {},
   "source": [
    "------------------------------------------------------------------------------------------------"
   ]
  },
  {
   "cell_type": "markdown",
   "id": "94e47e99",
   "metadata": {},
   "source": [
    "### Import Libraries"
   ]
  },
  {
   "cell_type": "code",
   "execution_count": 1,
   "id": "13f21afc",
   "metadata": {},
   "outputs": [],
   "source": [
    "# import basic libraries\n",
    "import pandas as pd\n",
    "import numpy as np\n",
    "\n",
    "# import libraries for visualization\n",
    "import matplotlib.pyplot as plt\n",
    "import seaborn as sns\n",
    "%matplotlib inline\n",
    "\n",
    "# import libraries for  modeling\n",
    "from sklearn.model_selection import train_test_split\n",
    "from sklearn.linear_model import LogisticRegression\n",
    "from sklearn.tree import DecisionTreeClassifier\n",
    "from sklearn.naive_bayes import GaussianNB\n",
    "\n",
    "# import libraries for data encoding, normalization and standarization\n",
    "try:\n",
    "    import category_encoders as ce\n",
    "except:\n",
    "    !pip install category_encoders\n",
    "    import category_encoders as ce\n",
    "from sklearn.preprocessing import MinMaxScaler    \n",
    "\n",
    "# import library for sampling\n",
    "try:\n",
    "    from imblearn.over_sampling import SMOTE\n",
    "except:\n",
    "    !pip install imblearn\n",
    "    from imblearn.over_sampling import SMOTE\n",
    "\n",
    "# import libraries for model performance evaluation\n",
    "from sklearn.metrics import confusion_matrix\n",
    "from sklearn.metrics import classification_report\n",
    "from sklearn.metrics import roc_auc_score\n",
    "from sklearn.metrics import log_loss"
   ]
  },
  {
   "cell_type": "markdown",
   "id": "0734fdff",
   "metadata": {},
   "source": [
    "### Reusable Functions"
   ]
  },
  {
   "cell_type": "markdown",
   "id": "8e1ac547",
   "metadata": {},
   "source": [
    "#### 1. Function to generate a clean (lower triangular) heatmap visual"
   ]
  },
  {
   "cell_type": "code",
   "execution_count": 2,
   "id": "c4d4a4c9",
   "metadata": {},
   "outputs": [],
   "source": [
    "def show_heat_map(data):\n",
    "    \"\"\"\n",
    "    function show_heat_map() to generate a heatmap for showing a correlation between features\n",
    "    Input(s): \n",
    "        - data: as dataframe\n",
    "    Output(s):\n",
    "        - None\n",
    "    \"\"\"\n",
    "    corr_matrix = data.corr()\n",
    "    # mask the upper triangle\n",
    "    plt.figure(figsize=(12, 10))\n",
    "    mask = np.zeros_like(corr_matrix, dtype=bool)\n",
    "    mask[np.triu_indices_from(mask)] = True\n",
    "    sns.heatmap(data.corr(), mask=mask, annot=True)"
   ]
  },
  {
   "cell_type": "markdown",
   "id": "802b7944",
   "metadata": {},
   "source": [
    "#### 2. Function to identify outliers in input feature using Z-score"
   ]
  },
  {
   "cell_type": "code",
   "execution_count": 3,
   "id": "9942154e",
   "metadata": {},
   "outputs": [],
   "source": [
    "def identify_outliers_Zscore(data, feature):\n",
    "    \"\"\"\n",
    "    function identify_outliers_Zscore() to identify the outliers in input dataframe\n",
    "    Method: Z-score, permissible values bounded within -3 <= z-score <= 3\n",
    "    Input(s): \n",
    "        - data: as dataframe\n",
    "        - feature: feature on which outliers are to be identified\n",
    "    Output(s):\n",
    "        - indices - list of indexes of the outliers\n",
    "    \"\"\"\n",
    "    mean = np.mean(data[feature])\n",
    "    std_dev = np.std(data[feature])\n",
    "    indices = []\n",
    "    for index, value in data[feature].iteritems():\n",
    "        z_score = (value-mean)/std_dev\n",
    "        if abs(z_score) > 3:\n",
    "            indices.append(index)\n",
    "    return indices"
   ]
  },
  {
   "cell_type": "markdown",
   "id": "d1e89b66",
   "metadata": {},
   "source": [
    "#### 3. Function to create a stacked histogram"
   ]
  },
  {
   "cell_type": "code",
   "execution_count": 4,
   "id": "f8dfdc97",
   "metadata": {},
   "outputs": [],
   "source": [
    "def show_stacked_histogram(dimension, category):\n",
    "    \"\"\"\n",
    "    function show_stacked_histogram() to create and print a stacked histogram\n",
    "    Method: uses seaborn library, histplot function\n",
    "    Input(s): \n",
    "        - dimension: feature to be plottled on x-axis\n",
    "        - category: feature to be used for stacking the histogram bars\n",
    "    Output(s):\n",
    "        - none\n",
    "    \"\"\"\n",
    "    f = plt.figure(figsize=(18,4))\n",
    "    ax = f.add_subplot()\n",
    "    plt.xticks(rotation=45)\n",
    "    sns.histplot(x=dimension, hue=category, multiple=\"stack\")\n",
    "    plt.show()"
   ]
  },
  {
   "cell_type": "markdown",
   "id": "31c5e660",
   "metadata": {},
   "source": [
    "### Import Dataset"
   ]
  },
  {
   "cell_type": "code",
   "execution_count": 5,
   "id": "d37c1158",
   "metadata": {},
   "outputs": [],
   "source": [
    "# load the dataset\n",
    "dataset = pd.read_csv('adult.csv')"
   ]
  },
  {
   "cell_type": "markdown",
   "id": "337ae710",
   "metadata": {},
   "source": [
    "------------------------------------------------------------------------------------------------"
   ]
  },
  {
   "cell_type": "markdown",
   "id": "b02435e7",
   "metadata": {},
   "source": [
    "### Data Exploration & Visualization"
   ]
  },
  {
   "cell_type": "code",
   "execution_count": 6,
   "id": "e6a15424",
   "metadata": {},
   "outputs": [
    {
     "name": "stdout",
     "output_type": "stream",
     "text": [
      "(48842, 15)\n",
      "\n",
      "The given dataset has 48842 rows and 15 columns\n"
     ]
    }
   ],
   "source": [
    "# view the shape of dataset\n",
    "print(dataset.shape)\n",
    "print('\\nThe given dataset has {} rows and {} columns'.format(dataset.shape[0], dataset.shape[1]))"
   ]
  },
  {
   "cell_type": "code",
   "execution_count": 7,
   "id": "7940d710",
   "metadata": {},
   "outputs": [
    {
     "name": "stdout",
     "output_type": "stream",
     "text": [
      "<class 'pandas.core.frame.DataFrame'>\n",
      "RangeIndex: 48842 entries, 0 to 48841\n",
      "Data columns (total 15 columns):\n",
      " #   Column           Non-Null Count  Dtype \n",
      "---  ------           --------------  ----- \n",
      " 0   age              48842 non-null  int64 \n",
      " 1   workclass        48842 non-null  object\n",
      " 2   fnlwgt           48842 non-null  int64 \n",
      " 3   education        48842 non-null  object\n",
      " 4   educational-num  48842 non-null  int64 \n",
      " 5   marital-status   48842 non-null  object\n",
      " 6   occupation       48842 non-null  object\n",
      " 7   relationship     48842 non-null  object\n",
      " 8   race             48842 non-null  object\n",
      " 9   gender           48842 non-null  object\n",
      " 10  capital-gain     48842 non-null  int64 \n",
      " 11  capital-loss     48842 non-null  int64 \n",
      " 12  hours-per-week   48842 non-null  int64 \n",
      " 13  native-country   48842 non-null  object\n",
      " 14  income           48842 non-null  object\n",
      "dtypes: int64(6), object(9)\n",
      "memory usage: 5.6+ MB\n"
     ]
    }
   ],
   "source": [
    "# view summary of dataset\n",
    "dataset.info()"
   ]
  },
  {
   "cell_type": "markdown",
   "id": "91e7a07c",
   "metadata": {},
   "source": [
    "##### Observations:\n",
    "* The dataset is a mix of numerical and categorical features\n",
    "* All the rows in dataset have non-null values in all the features\n",
    "* Some features have special characters \"-\" in their name. We will rename such features so that there are no issues while performing operations on them later"
   ]
  },
  {
   "cell_type": "code",
   "execution_count": 8,
   "id": "5fa24ce0",
   "metadata": {},
   "outputs": [
    {
     "name": "stdout",
     "output_type": "stream",
     "text": [
      "Index(['age', 'workclass', 'fnlwgt', 'education', 'educationalNum',\n",
      "       'maritalStatus', 'occupation', 'relationship', 'race', 'gender',\n",
      "       'capitalGain', 'capitalLoss', 'hoursPerWeek', 'nativeCountry',\n",
      "       'income'],\n",
      "      dtype='object')\n"
     ]
    }
   ],
   "source": [
    "# renaming features having special character (-) with proper names\n",
    "dataset.rename(columns={'capital-gain': 'capitalGain', 'capital-loss': 'capitalLoss', \n",
    "                        'native-country': 'nativeCountry','hours-per-week': 'hoursPerWeek',\n",
    "                        'educational-num': 'educationalNum', 'marital-status': 'maritalStatus'}, inplace=True)\n",
    "print(dataset.columns)"
   ]
  },
  {
   "cell_type": "code",
   "execution_count": 9,
   "id": "64d337e6",
   "metadata": {},
   "outputs": [
    {
     "data": {
      "text/html": [
       "<div>\n",
       "<style scoped>\n",
       "    .dataframe tbody tr th:only-of-type {\n",
       "        vertical-align: middle;\n",
       "    }\n",
       "\n",
       "    .dataframe tbody tr th {\n",
       "        vertical-align: top;\n",
       "    }\n",
       "\n",
       "    .dataframe thead th {\n",
       "        text-align: right;\n",
       "    }\n",
       "</style>\n",
       "<table border=\"1\" class=\"dataframe\">\n",
       "  <thead>\n",
       "    <tr style=\"text-align: right;\">\n",
       "      <th></th>\n",
       "      <th>age</th>\n",
       "      <th>workclass</th>\n",
       "      <th>fnlwgt</th>\n",
       "      <th>education</th>\n",
       "      <th>educationalNum</th>\n",
       "      <th>maritalStatus</th>\n",
       "      <th>occupation</th>\n",
       "      <th>relationship</th>\n",
       "      <th>race</th>\n",
       "      <th>gender</th>\n",
       "      <th>capitalGain</th>\n",
       "      <th>capitalLoss</th>\n",
       "      <th>hoursPerWeek</th>\n",
       "      <th>nativeCountry</th>\n",
       "      <th>income</th>\n",
       "    </tr>\n",
       "  </thead>\n",
       "  <tbody>\n",
       "    <tr>\n",
       "      <th>0</th>\n",
       "      <td>25</td>\n",
       "      <td>Private</td>\n",
       "      <td>226802</td>\n",
       "      <td>11th</td>\n",
       "      <td>7</td>\n",
       "      <td>Never-married</td>\n",
       "      <td>Machine-op-inspct</td>\n",
       "      <td>Own-child</td>\n",
       "      <td>Black</td>\n",
       "      <td>Male</td>\n",
       "      <td>0</td>\n",
       "      <td>0</td>\n",
       "      <td>40</td>\n",
       "      <td>United-States</td>\n",
       "      <td>&lt;=50K</td>\n",
       "    </tr>\n",
       "    <tr>\n",
       "      <th>1</th>\n",
       "      <td>38</td>\n",
       "      <td>Private</td>\n",
       "      <td>89814</td>\n",
       "      <td>HS-grad</td>\n",
       "      <td>9</td>\n",
       "      <td>Married-civ-spouse</td>\n",
       "      <td>Farming-fishing</td>\n",
       "      <td>Husband</td>\n",
       "      <td>White</td>\n",
       "      <td>Male</td>\n",
       "      <td>0</td>\n",
       "      <td>0</td>\n",
       "      <td>50</td>\n",
       "      <td>United-States</td>\n",
       "      <td>&lt;=50K</td>\n",
       "    </tr>\n",
       "    <tr>\n",
       "      <th>2</th>\n",
       "      <td>28</td>\n",
       "      <td>Local-gov</td>\n",
       "      <td>336951</td>\n",
       "      <td>Assoc-acdm</td>\n",
       "      <td>12</td>\n",
       "      <td>Married-civ-spouse</td>\n",
       "      <td>Protective-serv</td>\n",
       "      <td>Husband</td>\n",
       "      <td>White</td>\n",
       "      <td>Male</td>\n",
       "      <td>0</td>\n",
       "      <td>0</td>\n",
       "      <td>40</td>\n",
       "      <td>United-States</td>\n",
       "      <td>&gt;50K</td>\n",
       "    </tr>\n",
       "    <tr>\n",
       "      <th>3</th>\n",
       "      <td>44</td>\n",
       "      <td>Private</td>\n",
       "      <td>160323</td>\n",
       "      <td>Some-college</td>\n",
       "      <td>10</td>\n",
       "      <td>Married-civ-spouse</td>\n",
       "      <td>Machine-op-inspct</td>\n",
       "      <td>Husband</td>\n",
       "      <td>Black</td>\n",
       "      <td>Male</td>\n",
       "      <td>7688</td>\n",
       "      <td>0</td>\n",
       "      <td>40</td>\n",
       "      <td>United-States</td>\n",
       "      <td>&gt;50K</td>\n",
       "    </tr>\n",
       "    <tr>\n",
       "      <th>4</th>\n",
       "      <td>18</td>\n",
       "      <td>?</td>\n",
       "      <td>103497</td>\n",
       "      <td>Some-college</td>\n",
       "      <td>10</td>\n",
       "      <td>Never-married</td>\n",
       "      <td>?</td>\n",
       "      <td>Own-child</td>\n",
       "      <td>White</td>\n",
       "      <td>Female</td>\n",
       "      <td>0</td>\n",
       "      <td>0</td>\n",
       "      <td>30</td>\n",
       "      <td>United-States</td>\n",
       "      <td>&lt;=50K</td>\n",
       "    </tr>\n",
       "  </tbody>\n",
       "</table>\n",
       "</div>"
      ],
      "text/plain": [
       "   age  workclass  fnlwgt     education  educationalNum       maritalStatus  \\\n",
       "0   25    Private  226802          11th               7       Never-married   \n",
       "1   38    Private   89814       HS-grad               9  Married-civ-spouse   \n",
       "2   28  Local-gov  336951    Assoc-acdm              12  Married-civ-spouse   \n",
       "3   44    Private  160323  Some-college              10  Married-civ-spouse   \n",
       "4   18          ?  103497  Some-college              10       Never-married   \n",
       "\n",
       "          occupation relationship   race  gender  capitalGain  capitalLoss  \\\n",
       "0  Machine-op-inspct    Own-child  Black    Male            0            0   \n",
       "1    Farming-fishing      Husband  White    Male            0            0   \n",
       "2    Protective-serv      Husband  White    Male            0            0   \n",
       "3  Machine-op-inspct      Husband  Black    Male         7688            0   \n",
       "4                  ?    Own-child  White  Female            0            0   \n",
       "\n",
       "   hoursPerWeek  nativeCountry income  \n",
       "0            40  United-States  <=50K  \n",
       "1            50  United-States  <=50K  \n",
       "2            40  United-States   >50K  \n",
       "3            40  United-States   >50K  \n",
       "4            30  United-States  <=50K  "
      ]
     },
     "execution_count": 9,
     "metadata": {},
     "output_type": "execute_result"
    }
   ],
   "source": [
    "# view first 5 rows in dataset\n",
    "dataset.head(5)"
   ]
  },
  {
   "cell_type": "code",
   "execution_count": 10,
   "id": "b4713a24",
   "metadata": {},
   "outputs": [
    {
     "data": {
      "text/html": [
       "<div>\n",
       "<style scoped>\n",
       "    .dataframe tbody tr th:only-of-type {\n",
       "        vertical-align: middle;\n",
       "    }\n",
       "\n",
       "    .dataframe tbody tr th {\n",
       "        vertical-align: top;\n",
       "    }\n",
       "\n",
       "    .dataframe thead th {\n",
       "        text-align: right;\n",
       "    }\n",
       "</style>\n",
       "<table border=\"1\" class=\"dataframe\">\n",
       "  <thead>\n",
       "    <tr style=\"text-align: right;\">\n",
       "      <th></th>\n",
       "      <th>age</th>\n",
       "      <th>workclass</th>\n",
       "      <th>fnlwgt</th>\n",
       "      <th>education</th>\n",
       "      <th>educationalNum</th>\n",
       "      <th>maritalStatus</th>\n",
       "      <th>occupation</th>\n",
       "      <th>relationship</th>\n",
       "      <th>race</th>\n",
       "      <th>gender</th>\n",
       "      <th>capitalGain</th>\n",
       "      <th>capitalLoss</th>\n",
       "      <th>hoursPerWeek</th>\n",
       "      <th>nativeCountry</th>\n",
       "      <th>income</th>\n",
       "    </tr>\n",
       "  </thead>\n",
       "  <tbody>\n",
       "    <tr>\n",
       "      <th>48837</th>\n",
       "      <td>27</td>\n",
       "      <td>Private</td>\n",
       "      <td>257302</td>\n",
       "      <td>Assoc-acdm</td>\n",
       "      <td>12</td>\n",
       "      <td>Married-civ-spouse</td>\n",
       "      <td>Tech-support</td>\n",
       "      <td>Wife</td>\n",
       "      <td>White</td>\n",
       "      <td>Female</td>\n",
       "      <td>0</td>\n",
       "      <td>0</td>\n",
       "      <td>38</td>\n",
       "      <td>United-States</td>\n",
       "      <td>&lt;=50K</td>\n",
       "    </tr>\n",
       "    <tr>\n",
       "      <th>48838</th>\n",
       "      <td>40</td>\n",
       "      <td>Private</td>\n",
       "      <td>154374</td>\n",
       "      <td>HS-grad</td>\n",
       "      <td>9</td>\n",
       "      <td>Married-civ-spouse</td>\n",
       "      <td>Machine-op-inspct</td>\n",
       "      <td>Husband</td>\n",
       "      <td>White</td>\n",
       "      <td>Male</td>\n",
       "      <td>0</td>\n",
       "      <td>0</td>\n",
       "      <td>40</td>\n",
       "      <td>United-States</td>\n",
       "      <td>&gt;50K</td>\n",
       "    </tr>\n",
       "    <tr>\n",
       "      <th>48839</th>\n",
       "      <td>58</td>\n",
       "      <td>Private</td>\n",
       "      <td>151910</td>\n",
       "      <td>HS-grad</td>\n",
       "      <td>9</td>\n",
       "      <td>Widowed</td>\n",
       "      <td>Adm-clerical</td>\n",
       "      <td>Unmarried</td>\n",
       "      <td>White</td>\n",
       "      <td>Female</td>\n",
       "      <td>0</td>\n",
       "      <td>0</td>\n",
       "      <td>40</td>\n",
       "      <td>United-States</td>\n",
       "      <td>&lt;=50K</td>\n",
       "    </tr>\n",
       "    <tr>\n",
       "      <th>48840</th>\n",
       "      <td>22</td>\n",
       "      <td>Private</td>\n",
       "      <td>201490</td>\n",
       "      <td>HS-grad</td>\n",
       "      <td>9</td>\n",
       "      <td>Never-married</td>\n",
       "      <td>Adm-clerical</td>\n",
       "      <td>Own-child</td>\n",
       "      <td>White</td>\n",
       "      <td>Male</td>\n",
       "      <td>0</td>\n",
       "      <td>0</td>\n",
       "      <td>20</td>\n",
       "      <td>United-States</td>\n",
       "      <td>&lt;=50K</td>\n",
       "    </tr>\n",
       "    <tr>\n",
       "      <th>48841</th>\n",
       "      <td>52</td>\n",
       "      <td>Self-emp-inc</td>\n",
       "      <td>287927</td>\n",
       "      <td>HS-grad</td>\n",
       "      <td>9</td>\n",
       "      <td>Married-civ-spouse</td>\n",
       "      <td>Exec-managerial</td>\n",
       "      <td>Wife</td>\n",
       "      <td>White</td>\n",
       "      <td>Female</td>\n",
       "      <td>15024</td>\n",
       "      <td>0</td>\n",
       "      <td>40</td>\n",
       "      <td>United-States</td>\n",
       "      <td>&gt;50K</td>\n",
       "    </tr>\n",
       "  </tbody>\n",
       "</table>\n",
       "</div>"
      ],
      "text/plain": [
       "       age     workclass  fnlwgt   education  educationalNum  \\\n",
       "48837   27       Private  257302  Assoc-acdm              12   \n",
       "48838   40       Private  154374     HS-grad               9   \n",
       "48839   58       Private  151910     HS-grad               9   \n",
       "48840   22       Private  201490     HS-grad               9   \n",
       "48841   52  Self-emp-inc  287927     HS-grad               9   \n",
       "\n",
       "            maritalStatus         occupation relationship   race  gender  \\\n",
       "48837  Married-civ-spouse       Tech-support         Wife  White  Female   \n",
       "48838  Married-civ-spouse  Machine-op-inspct      Husband  White    Male   \n",
       "48839             Widowed       Adm-clerical    Unmarried  White  Female   \n",
       "48840       Never-married       Adm-clerical    Own-child  White    Male   \n",
       "48841  Married-civ-spouse    Exec-managerial         Wife  White  Female   \n",
       "\n",
       "       capitalGain  capitalLoss  hoursPerWeek  nativeCountry income  \n",
       "48837            0            0            38  United-States  <=50K  \n",
       "48838            0            0            40  United-States   >50K  \n",
       "48839            0            0            40  United-States  <=50K  \n",
       "48840            0            0            20  United-States  <=50K  \n",
       "48841        15024            0            40  United-States   >50K  "
      ]
     },
     "execution_count": 10,
     "metadata": {},
     "output_type": "execute_result"
    }
   ],
   "source": [
    "# view last 5 rows in dataset\n",
    "dataset.tail(5)"
   ]
  },
  {
   "cell_type": "markdown",
   "id": "05681257",
   "metadata": {},
   "source": [
    "Let's identify the numerical and categorical features in the dataset."
   ]
  },
  {
   "cell_type": "code",
   "execution_count": 11,
   "id": "f4d10929",
   "metadata": {},
   "outputs": [
    {
     "name": "stdout",
     "output_type": "stream",
     "text": [
      "There are 6 numerical features in dataset listed below:\n",
      "['age', 'fnlwgt', 'educationalNum', 'capitalGain', 'capitalLoss', 'hoursPerWeek']\n",
      "\n",
      "There are 9 categorical features in dataset listed below:\n",
      "['workclass', 'education', 'maritalStatus', 'occupation', 'relationship', 'race', 'gender', 'nativeCountry', 'income']\n"
     ]
    }
   ],
   "source": [
    "# numerical features\n",
    "numerical_features = [var for var in dataset.columns if dataset[var].dtype=='int64']\n",
    "print('There are {} numerical features in dataset listed below:\\n{}'.format(len(numerical_features), numerical_features))\n",
    "\n",
    "# categorical features\n",
    "categorical_features = [var for var in dataset.columns if dataset[var].dtype=='O']\n",
    "print('\\nThere are {} categorical features in dataset listed below:\\n{}'.format(len(categorical_features), categorical_features))"
   ]
  },
  {
   "cell_type": "markdown",
   "id": "0baabad5",
   "metadata": {},
   "source": [
    "#### Let's review the numerical features."
   ]
  },
  {
   "cell_type": "code",
   "execution_count": 12,
   "id": "c113b718",
   "metadata": {},
   "outputs": [
    {
     "data": {
      "text/html": [
       "<div>\n",
       "<style scoped>\n",
       "    .dataframe tbody tr th:only-of-type {\n",
       "        vertical-align: middle;\n",
       "    }\n",
       "\n",
       "    .dataframe tbody tr th {\n",
       "        vertical-align: top;\n",
       "    }\n",
       "\n",
       "    .dataframe thead th {\n",
       "        text-align: right;\n",
       "    }\n",
       "</style>\n",
       "<table border=\"1\" class=\"dataframe\">\n",
       "  <thead>\n",
       "    <tr style=\"text-align: right;\">\n",
       "      <th></th>\n",
       "      <th>age</th>\n",
       "      <th>fnlwgt</th>\n",
       "      <th>educationalNum</th>\n",
       "      <th>capitalGain</th>\n",
       "      <th>capitalLoss</th>\n",
       "      <th>hoursPerWeek</th>\n",
       "    </tr>\n",
       "  </thead>\n",
       "  <tbody>\n",
       "    <tr>\n",
       "      <th>count</th>\n",
       "      <td>48842.000000</td>\n",
       "      <td>4.884200e+04</td>\n",
       "      <td>48842.000000</td>\n",
       "      <td>48842.000000</td>\n",
       "      <td>48842.000000</td>\n",
       "      <td>48842.000000</td>\n",
       "    </tr>\n",
       "    <tr>\n",
       "      <th>mean</th>\n",
       "      <td>38.643585</td>\n",
       "      <td>1.896641e+05</td>\n",
       "      <td>10.078089</td>\n",
       "      <td>1079.067626</td>\n",
       "      <td>87.502314</td>\n",
       "      <td>40.422382</td>\n",
       "    </tr>\n",
       "    <tr>\n",
       "      <th>std</th>\n",
       "      <td>13.710510</td>\n",
       "      <td>1.056040e+05</td>\n",
       "      <td>2.570973</td>\n",
       "      <td>7452.019058</td>\n",
       "      <td>403.004552</td>\n",
       "      <td>12.391444</td>\n",
       "    </tr>\n",
       "    <tr>\n",
       "      <th>min</th>\n",
       "      <td>17.000000</td>\n",
       "      <td>1.228500e+04</td>\n",
       "      <td>1.000000</td>\n",
       "      <td>0.000000</td>\n",
       "      <td>0.000000</td>\n",
       "      <td>1.000000</td>\n",
       "    </tr>\n",
       "    <tr>\n",
       "      <th>25%</th>\n",
       "      <td>28.000000</td>\n",
       "      <td>1.175505e+05</td>\n",
       "      <td>9.000000</td>\n",
       "      <td>0.000000</td>\n",
       "      <td>0.000000</td>\n",
       "      <td>40.000000</td>\n",
       "    </tr>\n",
       "    <tr>\n",
       "      <th>50%</th>\n",
       "      <td>37.000000</td>\n",
       "      <td>1.781445e+05</td>\n",
       "      <td>10.000000</td>\n",
       "      <td>0.000000</td>\n",
       "      <td>0.000000</td>\n",
       "      <td>40.000000</td>\n",
       "    </tr>\n",
       "    <tr>\n",
       "      <th>75%</th>\n",
       "      <td>48.000000</td>\n",
       "      <td>2.376420e+05</td>\n",
       "      <td>12.000000</td>\n",
       "      <td>0.000000</td>\n",
       "      <td>0.000000</td>\n",
       "      <td>45.000000</td>\n",
       "    </tr>\n",
       "    <tr>\n",
       "      <th>max</th>\n",
       "      <td>90.000000</td>\n",
       "      <td>1.490400e+06</td>\n",
       "      <td>16.000000</td>\n",
       "      <td>99999.000000</td>\n",
       "      <td>4356.000000</td>\n",
       "      <td>99.000000</td>\n",
       "    </tr>\n",
       "  </tbody>\n",
       "</table>\n",
       "</div>"
      ],
      "text/plain": [
       "                age        fnlwgt  educationalNum   capitalGain   capitalLoss  \\\n",
       "count  48842.000000  4.884200e+04    48842.000000  48842.000000  48842.000000   \n",
       "mean      38.643585  1.896641e+05       10.078089   1079.067626     87.502314   \n",
       "std       13.710510  1.056040e+05        2.570973   7452.019058    403.004552   \n",
       "min       17.000000  1.228500e+04        1.000000      0.000000      0.000000   \n",
       "25%       28.000000  1.175505e+05        9.000000      0.000000      0.000000   \n",
       "50%       37.000000  1.781445e+05       10.000000      0.000000      0.000000   \n",
       "75%       48.000000  2.376420e+05       12.000000      0.000000      0.000000   \n",
       "max       90.000000  1.490400e+06       16.000000  99999.000000   4356.000000   \n",
       "\n",
       "       hoursPerWeek  \n",
       "count  48842.000000  \n",
       "mean      40.422382  \n",
       "std       12.391444  \n",
       "min        1.000000  \n",
       "25%       40.000000  \n",
       "50%       40.000000  \n",
       "75%       45.000000  \n",
       "max       99.000000  "
      ]
     },
     "execution_count": 12,
     "metadata": {},
     "output_type": "execute_result"
    }
   ],
   "source": [
    "# view the basic statistical details of numerical features\n",
    "dataset[numerical_features].describe()"
   ]
  },
  {
   "cell_type": "markdown",
   "id": "aa3a5693",
   "metadata": {},
   "source": [
    "##### Observations: \n",
    "1. age varies from 17 years to 90 years <br>\n",
    "2. fnlwgt is widely spread <br>\n",
    "3. educationalNum varies from 1 to 16\n",
    "4. capital gain and capital loss are heavily biased with 0 value\n",
    "5. working hours per week vary from 1 to 99 hrs"
   ]
  },
  {
   "cell_type": "markdown",
   "id": "4ddf1e8e",
   "metadata": {},
   "source": [
    "#### Let's review the categorical features"
   ]
  },
  {
   "cell_type": "code",
   "execution_count": 13,
   "id": "610a8507",
   "metadata": {},
   "outputs": [
    {
     "name": "stdout",
     "output_type": "stream",
     "text": [
      "\n",
      "----- workclass -----\n",
      "Private             33906\n",
      "Self-emp-not-inc     3862\n",
      "Local-gov            3136\n",
      "?                    2799\n",
      "State-gov            1981\n",
      "Self-emp-inc         1695\n",
      "Federal-gov          1432\n",
      "Without-pay            21\n",
      "Never-worked           10\n",
      "Name: workclass, dtype: int64\n",
      "\n",
      "----- education -----\n",
      "HS-grad         15784\n",
      "Some-college    10878\n",
      "Bachelors        8025\n",
      "Masters          2657\n",
      "Assoc-voc        2061\n",
      "11th             1812\n",
      "Assoc-acdm       1601\n",
      "10th             1389\n",
      "7th-8th           955\n",
      "Prof-school       834\n",
      "9th               756\n",
      "12th              657\n",
      "Doctorate         594\n",
      "5th-6th           509\n",
      "1st-4th           247\n",
      "Preschool          83\n",
      "Name: education, dtype: int64\n",
      "\n",
      "----- maritalStatus -----\n",
      "Married-civ-spouse       22379\n",
      "Never-married            16117\n",
      "Divorced                  6633\n",
      "Separated                 1530\n",
      "Widowed                   1518\n",
      "Married-spouse-absent      628\n",
      "Married-AF-spouse           37\n",
      "Name: maritalStatus, dtype: int64\n",
      "\n",
      "----- occupation -----\n",
      "Prof-specialty       6172\n",
      "Craft-repair         6112\n",
      "Exec-managerial      6086\n",
      "Adm-clerical         5611\n",
      "Sales                5504\n",
      "Other-service        4923\n",
      "Machine-op-inspct    3022\n",
      "?                    2809\n",
      "Transport-moving     2355\n",
      "Handlers-cleaners    2072\n",
      "Farming-fishing      1490\n",
      "Tech-support         1446\n",
      "Protective-serv       983\n",
      "Priv-house-serv       242\n",
      "Armed-Forces           15\n",
      "Name: occupation, dtype: int64\n",
      "\n",
      "----- relationship -----\n",
      "Husband           19716\n",
      "Not-in-family     12583\n",
      "Own-child          7581\n",
      "Unmarried          5125\n",
      "Wife               2331\n",
      "Other-relative     1506\n",
      "Name: relationship, dtype: int64\n",
      "\n",
      "----- race -----\n",
      "White                 41762\n",
      "Black                  4685\n",
      "Asian-Pac-Islander     1519\n",
      "Amer-Indian-Eskimo      470\n",
      "Other                   406\n",
      "Name: race, dtype: int64\n",
      "\n",
      "----- gender -----\n",
      "Male      32650\n",
      "Female    16192\n",
      "Name: gender, dtype: int64\n",
      "\n",
      "----- nativeCountry -----\n",
      "United-States                 43832\n",
      "Mexico                          951\n",
      "?                               857\n",
      "Philippines                     295\n",
      "Germany                         206\n",
      "Puerto-Rico                     184\n",
      "Canada                          182\n",
      "El-Salvador                     155\n",
      "India                           151\n",
      "Cuba                            138\n",
      "England                         127\n",
      "China                           122\n",
      "South                           115\n",
      "Jamaica                         106\n",
      "Italy                           105\n",
      "Dominican-Republic              103\n",
      "Japan                            92\n",
      "Guatemala                        88\n",
      "Poland                           87\n",
      "Vietnam                          86\n",
      "Columbia                         85\n",
      "Haiti                            75\n",
      "Portugal                         67\n",
      "Taiwan                           65\n",
      "Iran                             59\n",
      "Nicaragua                        49\n",
      "Greece                           49\n",
      "Peru                             46\n",
      "Ecuador                          45\n",
      "France                           38\n",
      "Ireland                          37\n",
      "Thailand                         30\n",
      "Hong                             30\n",
      "Cambodia                         28\n",
      "Trinadad&Tobago                  27\n",
      "Laos                             23\n",
      "Outlying-US(Guam-USVI-etc)       23\n",
      "Yugoslavia                       23\n",
      "Scotland                         21\n",
      "Honduras                         20\n",
      "Hungary                          19\n",
      "Holand-Netherlands                1\n",
      "Name: nativeCountry, dtype: int64\n",
      "\n",
      "----- income -----\n",
      "<=50K    37155\n",
      ">50K     11687\n",
      "Name: income, dtype: int64\n"
     ]
    }
   ],
   "source": [
    "# view the unique values for categorical features and their respective counts\n",
    "for v in categorical_features:\n",
    "    print (\"\\n----- %s -----\" % v)\n",
    "    print (dataset[v].value_counts())"
   ]
  },
  {
   "cell_type": "markdown",
   "id": "e9c02263",
   "metadata": {},
   "source": [
    "##### Observations:\n",
    "1. All the categorical features have limited set of values\n",
    "2. workclass, marital status, occupation, relationship, race, gender and native country seem to be nominal in nature\n",
    "3. education seems to be an ordinal feature\n",
    "4. workclass, education and native country have \"?\" special character in the values for some data rows which should be handled during pre-processing of data"
   ]
  },
  {
   "cell_type": "markdown",
   "id": "137351aa",
   "metadata": {},
   "source": [
    "#### Next, we will plot a histogram of all features to see their distribution in dataset w.r.t. income"
   ]
  },
  {
   "cell_type": "code",
   "execution_count": 14,
   "id": "89b8c701",
   "metadata": {
    "scrolled": false
   },
   "outputs": [
    {
     "data": {
      "image/png": "[encoded data removed]",
      "text/plain": [
       "<Figure size 1296x288 with 1 Axes>"
      ]
     },
     "metadata": {
      "needs_background": "light"
     },
     "output_type": "display_data"
    },
    {
     "data": {
      "image/png": "[encoded data removed]",
      "text/plain": [
       "<Figure size 1296x288 with 1 Axes>"
      ]
     },
     "metadata": {
      "needs_background": "light"
     },
     "output_type": "display_data"
    },
    {
     "data": {
      "image/png": "[encoded data removed]",
      "text/plain": [
       "<Figure size 1296x288 with 1 Axes>"
      ]
     },
     "metadata": {
      "needs_background": "light"
     },
     "output_type": "display_data"
    },
    {
     "data": {
      "image/png": "[encoded data removed]",
      "text/plain": [
       "<Figure size 1296x288 with 1 Axes>"
      ]
     },
     "metadata": {
      "needs_background": "light"
     },
     "output_type": "display_data"
    },
    {
     "data": {
      "image/png": "[encoded data removed]",
      "text/plain": [
       "<Figure size 1296x288 with 1 Axes>"
      ]
     },
     "metadata": {
      "needs_background": "light"
     },
     "output_type": "display_data"
    },
    {
     "data": {
      "image/png": "[encoded data removed]",
      "text/plain": [
       "<Figure size 1296x288 with 1 Axes>"
      ]
     },
     "metadata": {
      "needs_background": "light"
     },
     "output_type": "display_data"
    },
    {
     "data": {
      "image/png": "[encoded data removed]",
      "text/plain": [
       "<Figure size 1296x288 with 1 Axes>"
      ]
     },
     "metadata": {
      "needs_background": "light"
     },
     "output_type": "display_data"
    },
    {
     "data": {
      "image/png": "[encoded data removed]",
      "text/plain": [
       "<Figure size 1296x288 with 1 Axes>"
      ]
     },
     "metadata": {
      "needs_background": "light"
     },
     "output_type": "display_data"
    },
    {
     "data": {
      "image/png": "[encoded data removed]",
      "text/plain": [
       "<Figure size 1296x288 with 1 Axes>"
      ]
     },
     "metadata": {
      "needs_background": "light"
     },
     "output_type": "display_data"
    },
    {
     "data": {
      "image/png": "[encoded data removed]",
      "text/plain": [
       "<Figure size 1296x288 with 1 Axes>"
      ]
     },
     "metadata": {
      "needs_background": "light"
     },
     "output_type": "display_data"
    },
    {
     "data": {
      "image/png": "[encoded data removed]",
      "text/plain": [
       "<Figure size 1296x288 with 1 Axes>"
      ]
     },
     "metadata": {
      "needs_background": "light"
     },
     "output_type": "display_data"
    },
    {
     "data": {
      "image/png": "[encoded data removed]",
      "text/plain": [
       "<Figure size 1296x288 with 1 Axes>"
      ]
     },
     "metadata": {
      "needs_background": "light"
     },
     "output_type": "display_data"
    },
    {
     "data": {
      "image/png": "[encoded data removed]",
      "text/plain": [
       "<Figure size 1296x288 with 1 Axes>"
      ]
     },
     "metadata": {
      "needs_background": "light"
     },
     "output_type": "display_data"
    },
    {
     "data": {
      "image/png": "[encoded data removed]",
      "text/plain": [
       "<Figure size 1296x288 with 1 Axes>"
      ]
     },
     "metadata": {
      "needs_background": "light"
     },
     "output_type": "display_data"
    },
    {
     "data": {
      "image/png": "[encoded data removed]",
      "text/plain": [
       "<Figure size 1296x288 with 1 Axes>"
      ]
     },
     "metadata": {
      "needs_background": "light"
     },
     "output_type": "display_data"
    }
   ],
   "source": [
    "# get all feature names in list\n",
    "all_features = [var for var in dataset.columns]\n",
    "\n",
    "# plot histogram of all the features stacked by income\n",
    "for v in all_features:\n",
    "    show_stacked_histogram(dataset[v], dataset['income'])"
   ]
  },
  {
   "cell_type": "markdown",
   "id": "d4673444",
   "metadata": {},
   "source": [
    "##### Observations:\n",
    "1. There is a significant amount of variance between the ratio of >50k to <=50k. The most interesting age groups to notice are  <20, 71-80 and 81-90 where there is almost no chance to have an income of greater than 50K\n",
    "2. A higher level of education is correlated to a higher percentage of individuals with the label >50k\n",
    "3. A majority of the individuals work in the private sector. Federal gov and self employed work class have high income\n",
    "4. Occupations with managerial positions and professional speciality yeild high income\n",
    "5. Working hours seem to have positive correlation with income \n",
    "6. The sample size of whites in the dataset is disproportionately large in comparison to all other races. The second most represented group is blacks with less than 5000 entries. The lack of equal distribution cause us to consider not utilizing this attribute in our prediction model\n",
    "7. The percentage of males who make greater than 50K is much greater than the those of females that make the same amount. This may be a significant factor, and should be a considered in our prediction model\n",
    "8. capital gain and capital loss have major proportion of zero (0) values and may not be influencing the income. So, these can also be removed later during pre-processing"
   ]
  },
  {
   "cell_type": "markdown",
   "id": "b8743e8d",
   "metadata": {},
   "source": [
    "#### Let's check the count of target variable i.e. income"
   ]
  },
  {
   "cell_type": "code",
   "execution_count": 15,
   "id": "48fbf5ae",
   "metadata": {},
   "outputs": [
    {
     "data": {
      "text/plain": [
       "<=50K    37155\n",
       ">50K     11687\n",
       "Name: income, dtype: int64"
      ]
     },
     "execution_count": 15,
     "metadata": {},
     "output_type": "execute_result"
    }
   ],
   "source": [
    "# count of adults having income <=50K and >50K respectively\n",
    "dataset['income'].value_counts()"
   ]
  },
  {
   "cell_type": "markdown",
   "id": "17077e80",
   "metadata": {},
   "source": [
    "The proportion of adults having income upto 50K is large compared to that of adults having income more than 50K. This is a class imbalance problem and we may have to do sampling during data pre-processing."
   ]
  },
  {
   "cell_type": "markdown",
   "id": "890c7eca",
   "metadata": {},
   "source": [
    "#### Print a boxplot of numerical features to review outliers"
   ]
  },
  {
   "cell_type": "code",
   "execution_count": 16,
   "id": "f518a20c",
   "metadata": {},
   "outputs": [
    {
     "data": {
      "image/png": "[encoded data removed]",
      "text/plain": [
       "<Figure size 864x432 with 1 Axes>"
      ]
     },
     "metadata": {
      "needs_background": "light"
     },
     "output_type": "display_data"
    }
   ],
   "source": [
    "# boxplot to check the distribution of numerical features\n",
    "red_circle = dict(markerfacecolor='red', marker='o', markeredgecolor='white',  markersize=5)\n",
    "dataset[numerical_features].boxplot(figsize=(12,6), flierprops=red_circle)\n",
    "plt.show()"
   ]
  },
  {
   "cell_type": "markdown",
   "id": "65edad1d",
   "metadata": {},
   "source": [
    "The above boxplot shows that there are outliers in dataset that would need to be dealt with during pre-processing. Normalization of fnlwgt  will also be required."
   ]
  },
  {
   "cell_type": "markdown",
   "id": "44987f0d",
   "metadata": {},
   "source": [
    "#### Review the correlation between the numerical features "
   ]
  },
  {
   "cell_type": "code",
   "execution_count": 17,
   "id": "bc75cee7",
   "metadata": {},
   "outputs": [
    {
     "data": {
      "image/png": "[encoded data removed]",
      "text/plain": [
       "<Figure size 864x720 with 2 Axes>"
      ]
     },
     "metadata": {
      "needs_background": "light"
     },
     "output_type": "display_data"
    }
   ],
   "source": [
    "# show the correlation between the numerical features\n",
    "show_heat_map(dataset)"
   ]
  },
  {
   "cell_type": "markdown",
   "id": "8e3a4126",
   "metadata": {},
   "source": [
    "Above heatmap shows that the numerical features in their current form do not show any significant correlation.\n",
    "<h4> Note: </h4> The exploratory analysis done so far was using numerical and categorical features in their original forms as provided in dataset."
   ]
  },
  {
   "cell_type": "markdown",
   "id": "726875e2",
   "metadata": {},
   "source": [
    "------------------------------------------------------------------------------------------------"
   ]
  },
  {
   "cell_type": "code",
   "execution_count": 18,
   "id": "30951b93",
   "metadata": {},
   "outputs": [
    {
     "data": {
      "text/plain": [
       "\"\\n# R&D code\\n# check if two features are same\\nlookup_education = dict(zip(dataset['educationalNum'].unique(), dataset['education'].unique()))\\nlookup_education\\n\""
      ]
     },
     "execution_count": 18,
     "metadata": {},
     "output_type": "execute_result"
    }
   ],
   "source": [
    "\"\"\"\n",
    "# R&D code\n",
    "# check if two features are same\n",
    "lookup_education = dict(zip(dataset['educationalNum'].unique(), dataset['education'].unique()))\n",
    "lookup_education\n",
    "\"\"\""
   ]
  },
  {
   "cell_type": "markdown",
   "id": "4ddc5356",
   "metadata": {},
   "source": [
    "### Data Pre-Processing and Cleaning"
   ]
  },
  {
   "cell_type": "markdown",
   "id": "d5f2b341",
   "metadata": {},
   "source": [
    "#### 1. Remove null or missing values or noise"
   ]
  },
  {
   "cell_type": "markdown",
   "id": "c68f4409",
   "metadata": {},
   "source": [
    "During data exploration, we found that few features in dataset have a \"?\" value. Let’s get the count of \"?\" characters present in those features."
   ]
  },
  {
   "cell_type": "code",
   "execution_count": 19,
   "id": "eb5ee98a",
   "metadata": {},
   "outputs": [
    {
     "data": {
      "text/plain": [
       "age                  0\n",
       "workclass         2799\n",
       "fnlwgt               0\n",
       "education            0\n",
       "educationalNum       0\n",
       "maritalStatus        0\n",
       "occupation        2809\n",
       "relationship         0\n",
       "race                 0\n",
       "gender               0\n",
       "capitalGain          0\n",
       "capitalLoss          0\n",
       "hoursPerWeek         0\n",
       "nativeCountry      857\n",
       "income               0\n",
       "dtype: int64"
      ]
     },
     "execution_count": 19,
     "metadata": {},
     "output_type": "execute_result"
    }
   ],
   "source": [
    "# find the special character \"?\" in the dataset\n",
    "dataset.isin(['?']).sum(axis=0)"
   ]
  },
  {
   "cell_type": "markdown",
   "id": "1609f388",
   "metadata": {},
   "source": [
    "It can be seen above that workclass, occupation and nativeCountry have significant number of \"?\" values. Such values are not advisable for use in training and thus we will remove data rows that have \"?\" values in these features. Note that since the count of such rows is very low compared to total data rows, so removing them may not have significant impact on training and evaluation of machine learning models."
   ]
  },
  {
   "cell_type": "code",
   "execution_count": 20,
   "id": "15942c94",
   "metadata": {},
   "outputs": [],
   "source": [
    "# code will replace the \"?\" character to nan\n",
    "dataset['nativeCountry'] = dataset['nativeCountry'].replace('?', np.nan)\n",
    "dataset['workclass'] = dataset['workclass'].replace('?', np.nan)\n",
    "dataset['occupation'] = dataset['occupation'].replace('?', np.nan)\n",
    "\n",
    "# drop the rows if any missing (nan) values are present in them\n",
    "dataset.dropna(how='any', inplace=True)"
   ]
  },
  {
   "cell_type": "markdown",
   "id": "2a3efa45",
   "metadata": {},
   "source": [
    "All rows having \"?\" values in features are now removed from dataset."
   ]
  },
  {
   "cell_type": "code",
   "execution_count": 21,
   "id": "20b27e66",
   "metadata": {},
   "outputs": [
    {
     "name": "stdout",
     "output_type": "stream",
     "text": [
      "(45222, 15)\n",
      "\n",
      "The updated dataset has 45222 rows and 15 columns\n"
     ]
    }
   ],
   "source": [
    "# check the shape of data after removal of rows from above step\n",
    "print(dataset.shape)\n",
    "\n",
    "print('\\nThe updated dataset has {} rows and {} columns'.format(dataset.shape[0], dataset.shape[1]))"
   ]
  },
  {
   "cell_type": "code",
   "execution_count": 22,
   "id": "327f08af",
   "metadata": {},
   "outputs": [
    {
     "data": {
      "text/plain": [
       "<=50K    34014\n",
       ">50K     11208\n",
       "Name: income, dtype: int64"
      ]
     },
     "execution_count": 22,
     "metadata": {},
     "output_type": "execute_result"
    }
   ],
   "source": [
    "# re-check the count of adults having income <=50K and >50K respectively in the updated dataset\n",
    "dataset['income'].value_counts()"
   ]
  },
  {
   "cell_type": "markdown",
   "id": "712ac5f2",
   "metadata": {},
   "source": [
    "The removal of rows have not caused any significant change in the proportion of <=50K and >50K."
   ]
  },
  {
   "cell_type": "markdown",
   "id": "d25a582f",
   "metadata": {},
   "source": [
    "Exploratory analysis showed that the capitalGain and capitalLoss have a very high proportion of 0 values which may not be useful for training. Also, the proportion of whites in race feature is disproportionalely very large compared to races other than white. So, we will drop these features from processing."
   ]
  },
  {
   "cell_type": "markdown",
   "id": "9d3cc480",
   "metadata": {},
   "source": [
    "#### Drop irrelevant features identified by exploratory analysis"
   ]
  },
  {
   "cell_type": "code",
   "execution_count": 23,
   "id": "3f97cc6a",
   "metadata": {},
   "outputs": [],
   "source": [
    "# drop capitalGain and capitalLoss from the dataset\n",
    "dataset.drop(['capitalGain', 'capitalLoss', 'race'], axis=1, inplace=True)"
   ]
  },
  {
   "cell_type": "markdown",
   "id": "804cb9ee",
   "metadata": {},
   "source": [
    "#### 2. Identify outliers and remove"
   ]
  },
  {
   "cell_type": "markdown",
   "id": "cc8f14fb",
   "metadata": {},
   "source": [
    "During exploration, we observed that there are outliers in numerical features. Let's check that again for numerical features in the updated dataset.\n",
    "\n",
    "Let's view the boxplot to visualize the outliers."
   ]
  },
  {
   "cell_type": "code",
   "execution_count": 24,
   "id": "6d120b28",
   "metadata": {},
   "outputs": [
    {
     "name": "stdout",
     "output_type": "stream",
     "text": [
      "\n",
      "Boxplot of numerical features:\n"
     ]
    },
    {
     "data": {
      "image/png": "[encoded data removed]",
      "text/plain": [
       "<Figure size 1080x288 with 4 Axes>"
      ]
     },
     "metadata": {
      "needs_background": "light"
     },
     "output_type": "display_data"
    }
   ],
   "source": [
    "# print boxplot to check the distribution of numerical features\n",
    "\n",
    "print(\"\\nBoxplot of numerical features:\")\n",
    "\n",
    "red_circle = dict(markerfacecolor='red', marker='o', markeredgecolor='white',  markersize=5)\n",
    "fig, ([ax1, ax2, ax3, ax4]) = plt.subplots(1, 4, figsize=(15,4))\n",
    "fig.tight_layout(pad=2) # for distance between the sub-plots\n",
    "\n",
    "ax1.boxplot(dataset.age, flierprops=red_circle)\n",
    "ax1.set_xlabel('age')\n",
    "\n",
    "ax2.boxplot(dataset.fnlwgt, flierprops=red_circle)\n",
    "ax2.set_xlabel('fnlwgt')\n",
    "\n",
    "ax3.boxplot(dataset.educationalNum, flierprops=red_circle)\n",
    "ax3.set_xlabel('educationalNum')\n",
    "\n",
    "ax4.boxplot(dataset.hoursPerWeek, flierprops=red_circle)\n",
    "ax4.set_xlabel('hoursPerWeek')\n",
    "\n",
    "plt.show()"
   ]
  },
  {
   "cell_type": "markdown",
   "id": "3a88416e",
   "metadata": {},
   "source": [
    "It can be seen above that outliers exist, so we will find outliers and remove them. "
   ]
  },
  {
   "cell_type": "code",
   "execution_count": 25,
   "id": "c4bbc454",
   "metadata": {},
   "outputs": [
    {
     "name": "stdout",
     "output_type": "stream",
     "text": [
      "# of Outliers in age \t : 163 (0.36%)\n",
      "# of Outliers in fnlwgt \t : 471 (1.04%)\n",
      "# of Outliers in educationalNum \t : 294 (0.65%)\n",
      "# of Outliers in hoursPerWeek \t : 626 (1.38%)\n",
      "\n",
      "There are total 1522 rows in data having outliers in numerical features so far.\n",
      "\n",
      "After removing the outliers, the dataset is left with 43700 rows.\n"
     ]
    }
   ],
   "source": [
    "# get numerical feature names in list\n",
    "mumerical_features = [var for var in dataset.columns if dataset[var].dtype=='int64']\n",
    "\n",
    "all_outliers = [] # emply list to store indices of outliers\n",
    "\n",
    "# loop to get and print the % of outliers\n",
    "for v in mumerical_features:\n",
    "    outliers = identify_outliers_Zscore(dataset, dataset[v].name)\n",
    "    outlier_cnt = len(identify_outliers_Zscore(dataset, dataset[v].name))\n",
    "    print('# of Outliers in {} \\t : {} ({:.2f}%)'.format(dataset[v].name, outlier_cnt, (outlier_cnt*100)/len(dataset[v])))\n",
    "    all_outliers= list(set(all_outliers) | set(outliers))\n",
    "\n",
    "print('\\nThere are total {} rows in data having outliers in numerical features so far.'.format(len(all_outliers)))\n",
    "\n",
    "# drop rows having outliers in features\n",
    "dataset.drop(all_outliers, inplace=True)\n",
    "\n",
    "# check the shape of updated dataset\n",
    "print('\\nAfter removing the outliers, the dataset is left with {} rows.'.format(dataset.shape[0]))"
   ]
  },
  {
   "cell_type": "markdown",
   "id": "21580ab1",
   "metadata": {},
   "source": [
    "#### 3. Check for skewness in features and normalize"
   ]
  },
  {
   "cell_type": "code",
   "execution_count": 26,
   "id": "75ef6cf2",
   "metadata": {},
   "outputs": [
    {
     "name": "stdout",
     "output_type": "stream",
     "text": [
      "age               0.444481\n",
      "fnlwgt            0.633231\n",
      "educationalNum   -0.156917\n",
      "hoursPerWeek     -0.266908\n",
      "dtype: float64\n"
     ]
    }
   ],
   "source": [
    "# check skewness of data\n",
    "print(dataset.skew())"
   ]
  },
  {
   "cell_type": "markdown",
   "id": "cebdb564",
   "metadata": {},
   "source": [
    "fnlweight is moderatively positively skewed, so we will reduce its skewness."
   ]
  },
  {
   "cell_type": "code",
   "execution_count": 27,
   "id": "126ddca3",
   "metadata": {},
   "outputs": [
    {
     "name": "stdout",
     "output_type": "stream",
     "text": [
      "age               0.444481\n",
      "fnlwgt           -0.099185\n",
      "educationalNum   -0.156917\n",
      "hoursPerWeek     -0.266908\n",
      "dtype: float64\n"
     ]
    }
   ],
   "source": [
    "# removing skewness using sqrt transformation\n",
    "dataset['fnlwgt'] = dataset['fnlwgt'].map(lambda x: np.sqrt(x))\n",
    "print(dataset.skew())"
   ]
  },
  {
   "cell_type": "markdown",
   "id": "9788de62",
   "metadata": {},
   "source": [
    "Now, the skewness of features are within the acceptable limits of <0.5 and >-0.5."
   ]
  },
  {
   "cell_type": "markdown",
   "id": "23d6ebef",
   "metadata": {},
   "source": [
    "#### 4. Convert categorical features into numerical features"
   ]
  },
  {
   "cell_type": "markdown",
   "id": "f1708449",
   "metadata": {},
   "source": [
    "Machine learning requires numerical representation of features to extract patterns and make predictions. But since, some features provided in the dataset in categorical form so those would need to be converted into numerical forms."
   ]
  },
  {
   "cell_type": "code",
   "execution_count": 28,
   "id": "1e16ada3",
   "metadata": {},
   "outputs": [
    {
     "name": "stdout",
     "output_type": "stream",
     "text": [
      "\n",
      "There are 8 categorical features remaining in dataset listed below:\n",
      "['workclass', 'education', 'maritalStatus', 'occupation', 'relationship', 'gender', 'nativeCountry', 'income']\n",
      "\n",
      "----- workclass -----\n",
      "Private             32281\n",
      "Self-emp-not-inc     3547\n",
      "Local-gov            3025\n",
      "State-gov            1900\n",
      "Self-emp-inc         1554\n",
      "Federal-gov          1372\n",
      "Without-pay            21\n",
      "Name: workclass, dtype: int64\n",
      "\n",
      "----- education -----\n",
      "HS-grad         14373\n",
      "Some-college     9661\n",
      "Bachelors        7391\n",
      "Masters          2451\n",
      "Assoc-voc        1918\n",
      "11th             1576\n",
      "Assoc-acdm       1474\n",
      "10th             1178\n",
      "7th-8th           776\n",
      "Prof-school       739\n",
      "9th               656\n",
      "12th              559\n",
      "Doctorate         514\n",
      "5th-6th           434\n",
      "Name: education, dtype: int64\n",
      "\n",
      "----- maritalStatus -----\n",
      "Married-civ-spouse       20275\n",
      "Never-married            14183\n",
      "Divorced                  6151\n",
      "Separated                 1364\n",
      "Widowed                   1185\n",
      "Married-spouse-absent      513\n",
      "Married-AF-spouse           29\n",
      "Name: maritalStatus, dtype: int64\n",
      "\n",
      "----- occupation -----\n",
      "Craft-repair         5856\n",
      "Prof-specialty       5822\n",
      "Exec-managerial      5810\n",
      "Adm-clerical         5433\n",
      "Sales                5259\n",
      "Other-service        4598\n",
      "Machine-op-inspct    2877\n",
      "Transport-moving     2208\n",
      "Handlers-cleaners    1978\n",
      "Tech-support         1391\n",
      "Farming-fishing      1311\n",
      "Protective-serv       941\n",
      "Priv-house-serv       202\n",
      "Armed-Forces           14\n",
      "Name: occupation, dtype: int64\n",
      "\n",
      "----- relationship -----\n",
      "Husband           17955\n",
      "Not-in-family     11302\n",
      "Own-child          6468\n",
      "Unmarried          4648\n",
      "Wife               2039\n",
      "Other-relative     1288\n",
      "Name: relationship, dtype: int64\n",
      "\n",
      "----- gender -----\n",
      "Male      29398\n",
      "Female    14302\n",
      "Name: gender, dtype: int64\n",
      "\n",
      "----- nativeCountry -----\n",
      "United-States                 40101\n",
      "Mexico                          746\n",
      "Philippines                     273\n",
      "Germany                         192\n",
      "Puerto-Rico                     165\n",
      "Canada                          162\n",
      "India                           144\n",
      "Cuba                            126\n",
      "El-Salvador                     119\n",
      "England                         114\n",
      "China                           110\n",
      "Jamaica                         101\n",
      "South                            98\n",
      "Italy                            92\n",
      "Japan                            84\n",
      "Dominican-Republic               83\n",
      "Poland                           79\n",
      "Vietnam                          77\n",
      "Columbia                         76\n",
      "Guatemala                        72\n",
      "Haiti                            64\n",
      "Iran                             56\n",
      "Portugal                         53\n",
      "Taiwan                           53\n",
      "Greece                           44\n",
      "Nicaragua                        42\n",
      "Ecuador                          41\n",
      "Peru                             41\n",
      "Ireland                          36\n",
      "France                           33\n",
      "Hong                             27\n",
      "Thailand                         26\n",
      "Trinadad&Tobago                  26\n",
      "Cambodia                         24\n",
      "Outlying-US(Guam-USVI-etc)       22\n",
      "Yugoslavia                       22\n",
      "Laos                             20\n",
      "Scotland                         20\n",
      "Honduras                         18\n",
      "Hungary                          17\n",
      "Holand-Netherlands                1\n",
      "Name: nativeCountry, dtype: int64\n",
      "\n",
      "----- income -----\n",
      "<=50K    32830\n",
      ">50K     10870\n",
      "Name: income, dtype: int64\n"
     ]
    }
   ],
   "source": [
    "# get remaining categorical features\n",
    "categorical_features = [var for var in dataset.columns if dataset[var].dtype=='O']\n",
    "print('\\nThere are {} categorical features remaining in dataset listed below:\\n{}'.format(len(categorical_features), categorical_features))\n",
    "\n",
    "# view the unique values for categorical features and their respective counts\n",
    "for v in categorical_features:\n",
    "    print (\"\\n----- %s -----\" % v)\n",
    "    print (dataset[v].value_counts())"
   ]
  },
  {
   "cell_type": "markdown",
   "id": "2538ba5f",
   "metadata": {},
   "source": [
    "#### 5. Convert feature types"
   ]
  },
  {
   "cell_type": "code",
   "execution_count": 29,
   "id": "274ac47f",
   "metadata": {},
   "outputs": [],
   "source": [
    "# mapping income to 0 and 1 as there are only two values\n",
    "dataset['income'] = dataset['income'].map({'<=50K': 0, '>50K': 1}).astype(int)"
   ]
  },
  {
   "cell_type": "markdown",
   "id": "c549343b",
   "metadata": {},
   "source": [
    "Now, gender has 2 values - either 'Male' or 'Female', so we map values to  1 and 0 for them respectively"
   ]
  },
  {
   "cell_type": "code",
   "execution_count": 30,
   "id": "d851e0cf",
   "metadata": {},
   "outputs": [],
   "source": [
    "# mapping gender to 0 and 1 as there are only two values\n",
    "dataset['gender'] = dataset['gender'].map({'Female': 0, 'Male': 1}).astype(int)"
   ]
  },
  {
   "cell_type": "markdown",
   "id": "13843b43",
   "metadata": {},
   "source": [
    "During exploration, we observed that a very high proportion of value in nativeCountry feature is \"United-States\". So, we consider the data into \"United-States\" and \"Non United-States\". Then map them to 1 and 0 respectively.\n",
    "\n",
    "We also tried using ordinal encoding and one-hot encoding of nativeCountry but it was not showing any significant difference in the accuracy of model."
   ]
  },
  {
   "cell_type": "code",
   "execution_count": 31,
   "id": "10d3b5b1",
   "metadata": {},
   "outputs": [],
   "source": [
    "# mapping nativeCountry\n",
    "dataset['nativeCountry'] = dataset['nativeCountry'].map({'Italy': 0,\n",
    "                                                           'Puerto-Rico': 0, \n",
    "                                                           'Haiti': 0,\n",
    "                                                           'Portugal': 0,\n",
    "                                                           'England': 0,\n",
    "                                                           'France': 0,\n",
    "                                                           'Iran': 0,\n",
    "                                                           'Greece': 0, 'Dominican-Republic': 0, 'Canada': 0,\n",
    "                                                           'Cambodia': 0, \n",
    "                                                           'Hong': 0, \n",
    "                                                           'Outlying-US(Guam-USVI-etc)': 0, \n",
    "                                                           'Ireland': 0, \n",
    "                                                           'South': 0, \n",
    "                                                           'Scotland': 0, \n",
    "                                                           'Poland': 0, \n",
    "                                                           'Peru': 0, \n",
    "                                                           'El-Salvador': 0, \n",
    "                                                           'Ecuador': 0, \n",
    "                                                           'Cuba': 0, \n",
    "                                                           'Jamaica': 0, \n",
    "                                                           'Philippines': 0, \n",
    "                                                           'Taiwan': 0, \n",
    "                                                           'China': 0, \n",
    "                                                           'Germany': 0, \n",
    "                                                           'Yugoslavia': 0, \n",
    "                                                           'India': 0, \n",
    "                                                           'Holand-Netherlands': 0, \n",
    "                                                           'Honduras': 0, \n",
    "                                                           'Guatemala': 0, \n",
    "                                                           'United-States': 1, \n",
    "                                                           'Vietnam': 0, \n",
    "                                                           'Nicaragua': 0, \n",
    "                                                           'Thailand': 0, \n",
    "                                                           'Hungary': 0, \n",
    "                                                           'Mexico': 0, \n",
    "                                                           'Trinadad&Tobago': 0, \n",
    "                                                           'Japan': 0, \n",
    "                                                           'Columbia': 0, \n",
    "                                                           'Laos': 0}).astype(int)"
   ]
  },
  {
   "cell_type": "markdown",
   "id": "34f56bc9",
   "metadata": {},
   "source": [
    "We certainly saw in histogram plotted during exploration that adults with higher education are paid more. Hence, we treat education as an ordinal feature, and we will replace the values with numbers from 1,2,3,.....16. However, this could be a duplicate of educationNum feature and can be removed later if a correlation is established."
   ]
  },
  {
   "cell_type": "code",
   "execution_count": 32,
   "id": "9af4d5f8",
   "metadata": {},
   "outputs": [],
   "source": [
    "# education\n",
    "dataset['education'] = dataset['education'].map({'Preschool': 1, \n",
    "                                                 '1st-4th': 2, \n",
    "                                                 '5th-6th': 3, \n",
    "                                                 '7th-8th': 4, \n",
    "                                                 '9th': 5, \n",
    "                                                 '10th': 6, \n",
    "                                                 '11th': 7,\n",
    "                                                 '12th': 8, \n",
    "                                                 'HS-grad': 9, \n",
    "                                                 'Some-college': 10, \n",
    "                                                 'Assoc-voc': 11,\n",
    "                                                 'Assoc-acdm': 12, \n",
    "                                                 'Bachelors': 13,\n",
    "                                                 'Masters': 14,\n",
    "                                                 'Prof-school': 15,\n",
    "                                                 'Doctorate': 16}).astype(int)"
   ]
  },
  {
   "cell_type": "markdown",
   "id": "58d97a76",
   "metadata": {},
   "source": [
    "During exploration, we observed that maritalStatus is not having any significant influence on income > or <=50K. See the distribution below. So, this feature is also not likely to be useful for prediction model. So we will drop it.\n",
    "\n",
    "Note that we tried one hot encoding for this feature but it was not yielding any better results in terms of accuracy of model."
   ]
  },
  {
   "cell_type": "code",
   "execution_count": 33,
   "id": "65cb073d",
   "metadata": {},
   "outputs": [
    {
     "data": {
      "image/png": "[encoded data removed]",
      "text/plain": [
       "<Figure size 1296x288 with 1 Axes>"
      ]
     },
     "metadata": {
      "needs_background": "light"
     },
     "output_type": "display_data"
    }
   ],
   "source": [
    "# show distribution of maritalStatus w.r.t. income\n",
    "show_stacked_histogram(dataset['maritalStatus'], dataset['income'])"
   ]
  },
  {
   "cell_type": "code",
   "execution_count": 34,
   "id": "32418753",
   "metadata": {},
   "outputs": [],
   "source": [
    "# drop maritalStatus from dataset \n",
    "dataset.drop(['maritalStatus'], axis=1, inplace=True)"
   ]
  },
  {
   "cell_type": "markdown",
   "id": "35ac635e",
   "metadata": {},
   "source": [
    "#### 6. Correlation analysis"
   ]
  },
  {
   "cell_type": "markdown",
   "id": "13924f46",
   "metadata": {},
   "source": [
    "Now that few of the features are converted into numerical form, let's re-check the correlation among all the numerical features in the dataset."
   ]
  },
  {
   "cell_type": "code",
   "execution_count": 35,
   "id": "420f0331",
   "metadata": {},
   "outputs": [
    {
     "data": {
      "image/png": "[encoded data removed]",
      "text/plain": [
       "<Figure size 864x720 with 2 Axes>"
      ]
     },
     "metadata": {
      "needs_background": "light"
     },
     "output_type": "display_data"
    }
   ],
   "source": [
    "# dataset.corr()\n",
    "show_heat_map(dataset)"
   ]
  },
  {
   "cell_type": "markdown",
   "id": "415318a7",
   "metadata": {},
   "source": [
    "#### Observations from above:\n",
    "1. education and educationalNum have a perfect correlation, and they be considered duplicate of each other, so one of them can be dropped\n",
    "2. fnlwgt has no significant correlation with income\n",
    "3. nativeCountry has no significant correlation with income\n",
    "\n",
    "* So, we will drop education, fnlwgt and nativeCountry from the dataset"
   ]
  },
  {
   "cell_type": "code",
   "execution_count": 36,
   "id": "10808cf6",
   "metadata": {},
   "outputs": [],
   "source": [
    "# drop education, fnlwgt and nativeCountry from dataset \n",
    "dataset.drop(['education', 'fnlwgt', 'nativeCountry'], axis=1, inplace=True)"
   ]
  },
  {
   "cell_type": "markdown",
   "id": "461c07f8",
   "metadata": {},
   "source": [
    "We tried to drop relationship feature also initially from the dataset but that was impacting the accuracy of all models so kept it."
   ]
  },
  {
   "cell_type": "markdown",
   "id": "66616b41",
   "metadata": {},
   "source": [
    "#### 7. Features chosen for modeling"
   ]
  },
  {
   "cell_type": "code",
   "execution_count": 37,
   "id": "6b64411f",
   "metadata": {},
   "outputs": [
    {
     "name": "stdout",
     "output_type": "stream",
     "text": [
      "The list of features selected for model training available is below:\n",
      "['age', 'workclass', 'educationalNum', 'occupation', 'relationship', 'gender', 'hoursPerWeek', 'income']\n"
     ]
    }
   ],
   "source": [
    "# get all feature names in list\n",
    "all_features = [var for var in dataset.columns]\n",
    "\n",
    "# print final features\n",
    "print(\"The list of features selected for model training available is below:\\n{}\".format(all_features))"
   ]
  },
  {
   "cell_type": "markdown",
   "id": "8362786f",
   "metadata": {},
   "source": [
    "#### 8. Split the sample space into training and test data for predictors and target variable"
   ]
  },
  {
   "cell_type": "code",
   "execution_count": 38,
   "id": "cb180e93",
   "metadata": {},
   "outputs": [],
   "source": [
    "# create predictor sample space using all features excluding income\n",
    "X = dataset.loc[:, dataset.columns != 'income']\n",
    "\n",
    "# create target sample space\n",
    "Y = dataset['income']\n",
    "\n",
    "(X_train, X_test, Y_train, Y_test) = train_test_split(X, Y, stratify=Y, test_size= 0.3, random_state=0)\n",
    "\n",
    "# The dataset is split into two - training data and testing data\n",
    "# The ratio of split is given by the parameter test_size. 0.3 means that 30% of data is chosen for test\n",
    "# randam_state is the seed for the random number generator for reproducible results"
   ]
  },
  {
   "cell_type": "markdown",
   "id": "b46a9825",
   "metadata": {},
   "source": [
    "We will do one-hot encoding of remaining categorical features."
   ]
  },
  {
   "cell_type": "code",
   "execution_count": 39,
   "id": "ec92657a",
   "metadata": {},
   "outputs": [],
   "source": [
    "encoder = ce.OneHotEncoder(cols=['workclass', 'occupation', 'relationship'])\n",
    "X_train = encoder.fit_transform(X_train)\n",
    "X_test = encoder.transform(X_test)"
   ]
  },
  {
   "cell_type": "markdown",
   "id": "3b312cae",
   "metadata": {},
   "source": [
    "#### 9. Sampling\n",
    "* We noticed while doing exploratory analysis that the dataset is imbalanced towards <=50K target variable. The representation of <=50K and that of >50K is approximately in 3:1 ratio. \n",
    "\n",
    "* When we trained our models on this representation of data, the accuracy of predicting <=50K was satisfactorily very high of ~85% however the accuracy of predicting >50K was quite less in range of 45-52% only. This is due to the imbalanced dataset\n",
    "\n",
    "* So, we tried sampling to make equal representations and that improved results. Predictions of >50K improved to 60+%\n",
    "\n",
    "* We tried oversampling, undersampling and SMOTE sampling. Since SMOTE was giving best accuracy during model evaluation for all the modeling techniques, hence it was chosen\n",
    "\n",
    "The performance results of all the chosen machine learning models using oversampling and undersampling is not recorded in this notebook to avoid over-documentation."
   ]
  },
  {
   "cell_type": "code",
   "execution_count": 40,
   "id": "67a46321",
   "metadata": {},
   "outputs": [
    {
     "name": "stdout",
     "output_type": "stream",
     "text": [
      "0    22981\n",
      "1    22981\n",
      "Name: income, dtype: int64\n"
     ]
    }
   ],
   "source": [
    "# generate synthetic samples (SMOTE)\n",
    "sm = SMOTE(random_state=0)\n",
    "X_train, Y_train = sm.fit_resample(X_train, Y_train)\n",
    "\n",
    "# print the counts of training data having income <=50K and >50K respectively\n",
    "print(Y_train.value_counts())"
   ]
  },
  {
   "cell_type": "markdown",
   "id": "9c49aa3b",
   "metadata": {},
   "source": [
    "Now, the training data is balanced so there will not be a bias towards prediction of target labels."
   ]
  },
  {
   "cell_type": "markdown",
   "id": "1934fa7a",
   "metadata": {},
   "source": [
    "------------------------------------------------------------------------------------------------"
   ]
  },
  {
   "cell_type": "markdown",
   "id": "71d8395b",
   "metadata": {},
   "source": [
    "### Model Building & Evaluation"
   ]
  },
  {
   "cell_type": "markdown",
   "id": "ace08954",
   "metadata": {},
   "source": [
    "We have chosen below machine learning models for solving this problem:\n",
    "1. Logistic Regression\n",
    "2. Decision Tree Classifier\n",
    "3. Gaussian Naive Bayes Classifier"
   ]
  },
  {
   "cell_type": "markdown",
   "id": "961880e2",
   "metadata": {},
   "source": [
    "### Model 1 - Logistic Regression"
   ]
  },
  {
   "cell_type": "code",
   "execution_count": 41,
   "id": "4cb02634",
   "metadata": {},
   "outputs": [
    {
     "name": "stderr",
     "output_type": "stream",
     "text": [
      "C:\\Users\\A621011\\Anaconda3\\lib\\site-packages\\sklearn\\linear_model\\_logistic.py:763: ConvergenceWarning: lbfgs failed to converge (status=1):\n",
      "STOP: TOTAL NO. of ITERATIONS REACHED LIMIT.\n",
      "\n",
      "Increase the number of iterations (max_iter) or scale the data as shown in:\n",
      "    https://scikit-learn.org/stable/modules/preprocessing.html\n",
      "Please also refer to the documentation for alternative solver options:\n",
      "    https://scikit-learn.org/stable/modules/linear_model.html#logistic-regression\n",
      "  n_iter_i = _check_optimize_result(\n"
     ]
    },
    {
     "data": {
      "text/plain": [
       "LogisticRegression(max_iter=500)"
      ]
     },
     "execution_count": 41,
     "metadata": {},
     "output_type": "execute_result"
    }
   ],
   "source": [
    "# initialize logistic regression model and train\n",
    "logistic_model = LogisticRegression(max_iter=500, solver='lbfgs')\n",
    "\n",
    "# we are chosing solver='lbfgs', max_iter=100\n",
    "# hyper param tuning- l1 , l2 reg\n",
    "\n",
    "# train the model\n",
    "logistic_model.fit(X_train, Y_train)"
   ]
  },
  {
   "cell_type": "markdown",
   "id": "c0229963",
   "metadata": {},
   "source": [
    "The model is not converging within the maximum iterations value used, so we will increase the max_iter parameter in next run for tuning the hyper-parameters."
   ]
  },
  {
   "cell_type": "markdown",
   "id": "aed26717",
   "metadata": {},
   "source": [
    "#### Predict target variable"
   ]
  },
  {
   "cell_type": "code",
   "execution_count": 42,
   "id": "8417d284",
   "metadata": {},
   "outputs": [],
   "source": [
    "# predict the target variable for the test data\n",
    "Y_pred_log = logistic_model.predict(X_test)"
   ]
  },
  {
   "cell_type": "markdown",
   "id": "a06d964e",
   "metadata": {},
   "source": [
    "#### Training and test accuracy"
   ]
  },
  {
   "cell_type": "code",
   "execution_count": 43,
   "id": "fb93e0d0",
   "metadata": {},
   "outputs": [
    {
     "name": "stdout",
     "output_type": "stream",
     "text": [
      "Training set accuracy score \t: 0.8524\n",
      "Test set accuracy score \t: 0.8207\n"
     ]
    }
   ],
   "source": [
    "# print training and test accuracy\n",
    "print('Training set accuracy score \\t: {:.4f}'.format(logistic_model.score(X_train, Y_train)))\n",
    "print('Test set accuracy score \\t: {:.4f}'.format(logistic_model.score(X_test, Y_test)))"
   ]
  },
  {
   "cell_type": "markdown",
   "id": "e8bc32c9",
   "metadata": {},
   "source": [
    "The above accuracy scores of training and test dataset are comparable, so there is no sign of overfitting or underfitting."
   ]
  },
  {
   "cell_type": "markdown",
   "id": "14ba550b",
   "metadata": {},
   "source": [
    "#### Loss values"
   ]
  },
  {
   "cell_type": "code",
   "execution_count": 44,
   "id": "714efe96",
   "metadata": {},
   "outputs": [
    {
     "name": "stdout",
     "output_type": "stream",
     "text": [
      "AUC-ROC score \t: 0.7909\n",
      "Log-loss score \t: 6.1939\n"
     ]
    }
   ],
   "source": [
    "# print loss values\n",
    "print('AUC-ROC score \\t: {:.4f}'.format(roc_auc_score(Y_test, Y_pred_log)))\n",
    "print('Log-loss score \\t: {:.4f}'.format(log_loss(Y_test, Y_pred_log)))"
   ]
  },
  {
   "cell_type": "markdown",
   "id": "ede548b6",
   "metadata": {},
   "source": [
    "AUC value is high i.e. 0.79 (>> 0.5) which shows that the area ROC curve is high and that prediction mode is good. We will compate the log loss value of this model with other models after evaluating their performance."
   ]
  },
  {
   "cell_type": "markdown",
   "id": "980fd973",
   "metadata": {},
   "source": [
    "### Performance Evaluation"
   ]
  },
  {
   "cell_type": "markdown",
   "id": "9b46528c",
   "metadata": {},
   "source": [
    "#### Confusion Matrix"
   ]
  },
  {
   "cell_type": "code",
   "execution_count": 45,
   "id": "d991a203",
   "metadata": {
    "scrolled": true
   },
   "outputs": [
    {
     "data": {
      "image/png": "[encoded data removed]",
      "text/plain": [
       "<Figure size 432x288 with 2 Axes>"
      ]
     },
     "metadata": {
      "needs_background": "light"
     },
     "output_type": "display_data"
    }
   ],
   "source": [
    "# print confusion matrix\n",
    "cm_logistic = confusion_matrix(Y_test, Y_pred_log, labels=[1,0]) \n",
    "# print('Confusion matrix:\\n\\n', cm_logistic)\n",
    "sns.heatmap(cm_logistic, xticklabels=['>50K','<=50K'], yticklabels=['>50K','<=50K'], annot=True, fmt='g')\n",
    "plt.show()"
   ]
  },
  {
   "cell_type": "markdown",
   "id": "fd6ffd62",
   "metadata": {},
   "source": [
    "##### Observations from confusion matrix:\n",
    "1. True Positive (TP) = 2386; 2386 (62%) of >50K income are correctly classified by the model\n",
    "2. True Negative (TN) = 8383; 8383 (91%) of <=50K income are correctly classified by the model\n",
    "3. False Positive (FP) = 875; 875 of <=50K income are incorrectly classified as belonging to >50K income class\n",
    "4. False Negative (FN) = 1476; 1476 of >50K income are incorrectly classified as belonging to <=50K income class\n",
    "\n",
    "* Type-I error i.e. FP = 875\n",
    "* Type-II error i.e. FN = 1476\n",
    "\n",
    "The model is predicting <=50K with high precision, however it is low for >50K."
   ]
  },
  {
   "cell_type": "markdown",
   "id": "f7403b10",
   "metadata": {},
   "source": [
    "#### Classification Report"
   ]
  },
  {
   "cell_type": "code",
   "execution_count": 46,
   "id": "56d7265d",
   "metadata": {
    "scrolled": true
   },
   "outputs": [
    {
     "name": "stdout",
     "output_type": "stream",
     "text": [
      "Classification report: \n",
      " 1: >50K \n",
      " 0: <=50K \n",
      "               precision    recall  f1-score   support\n",
      "\n",
      "           1       0.62      0.73      0.67      3261\n",
      "           0       0.91      0.85      0.88      9849\n",
      "\n",
      "    accuracy                           0.82     13110\n",
      "   macro avg       0.76      0.79      0.77     13110\n",
      "weighted avg       0.83      0.82      0.83     13110\n",
      "\n"
     ]
    }
   ],
   "source": [
    "# print classification report\n",
    "print('Classification report: \\n 1: >50K \\n 0: <=50K \\n', classification_report(Y_test, Y_pred_log, labels=[1,0]))"
   ]
  },
  {
   "cell_type": "markdown",
   "id": "59502827",
   "metadata": {},
   "source": [
    "##### Observations from classification report:\n",
    "1. As can be seen in the above classification report, the precision of classifying <=50K income is 91% which is high as compared to that of >50K income classification which is 62%\n",
    "2. Recall for both <=50K and >50K are 85% and 73% respectively which are good\n",
    "3. The f1-score for both and overall accuracy (82%) of model is good"
   ]
  },
  {
   "cell_type": "code",
   "execution_count": 47,
   "id": "28a54884",
   "metadata": {},
   "outputs": [
    {
     "data": {
      "text/plain": [
       "0    1476\n",
       "1     875\n",
       "Name: income, dtype: int64"
      ]
     },
     "execution_count": 47,
     "metadata": {},
     "output_type": "execute_result"
    }
   ],
   "source": [
    "# R&D code\n",
    "error_df = Y_test[Y_pred_log != Y_test]\n",
    "error_df.value_counts()"
   ]
  },
  {
   "cell_type": "markdown",
   "id": "410b34fb",
   "metadata": {},
   "source": [
    "### Model 2 - Decision Tree"
   ]
  },
  {
   "cell_type": "code",
   "execution_count": 48,
   "id": "114b2820",
   "metadata": {},
   "outputs": [
    {
     "data": {
      "text/plain": [
       "DecisionTreeClassifier(max_depth=5)"
      ]
     },
     "execution_count": 48,
     "metadata": {},
     "output_type": "execute_result"
    }
   ],
   "source": [
    "# instantiate the DecisionTreeClassifier model using criterion gini index\n",
    "dtree_model = DecisionTreeClassifier(criterion='gini', max_depth=5)\n",
    "\n",
    "# fit the model\n",
    "dtree_model.fit(X_train, Y_train)"
   ]
  },
  {
   "cell_type": "markdown",
   "id": "16020868",
   "metadata": {},
   "source": [
    "#### Predict target variable"
   ]
  },
  {
   "cell_type": "code",
   "execution_count": 49,
   "id": "85ff04ba",
   "metadata": {},
   "outputs": [],
   "source": [
    "# predict test results\n",
    "Y_pred_dtree = dtree_model.predict(X_test)"
   ]
  },
  {
   "cell_type": "markdown",
   "id": "72ab4e08",
   "metadata": {},
   "source": [
    "#### Training and test accuracy"
   ]
  },
  {
   "cell_type": "code",
   "execution_count": 50,
   "id": "53ce0279",
   "metadata": {},
   "outputs": [
    {
     "name": "stdout",
     "output_type": "stream",
     "text": [
      "Training set accuracy score \t: 0.7949\n",
      "Test set accuracy score \t: 0.7783\n"
     ]
    }
   ],
   "source": [
    "# print accuracy scores on training and test set\n",
    "print('Training set accuracy score \\t: {:.4f}'.format(dtree_model.score(X_train, Y_train)))\n",
    "print('Test set accuracy score \\t: {:.4f}'.format(dtree_model.score(X_test, Y_test)))"
   ]
  },
  {
   "cell_type": "markdown",
   "id": "91d57f96",
   "metadata": {},
   "source": [
    "The above accuracy scores of training and test dataset are comparable, so there is no sign of overfitting or underfitting."
   ]
  },
  {
   "cell_type": "markdown",
   "id": "68e84d83",
   "metadata": {},
   "source": [
    "#### Loss values"
   ]
  },
  {
   "cell_type": "code",
   "execution_count": 51,
   "id": "f68ae76f",
   "metadata": {},
   "outputs": [
    {
     "name": "stdout",
     "output_type": "stream",
     "text": [
      "AUC-ROC score \t: 0.8004\n",
      "Log-loss score \t: 7.6561\n"
     ]
    }
   ],
   "source": [
    "# print loss values\n",
    "print('AUC-ROC score \\t: {:.4f}'.format(roc_auc_score(Y_test, Y_pred_dtree)))\n",
    "print('Log-loss score \\t: {:.4f}'.format(log_loss(Y_test, Y_pred_dtree)))"
   ]
  },
  {
   "cell_type": "markdown",
   "id": "30ceb080",
   "metadata": {},
   "source": [
    "AUC value is high i.e. 0.80 (>> 0.5) which shows that the area ROC curve is high and that prediction mode is good. However, the log loss value of this classifier is high as compared to that of Logistic Regression model."
   ]
  },
  {
   "cell_type": "markdown",
   "id": "21436ce8",
   "metadata": {},
   "source": [
    "### Performance Evaluation"
   ]
  },
  {
   "cell_type": "markdown",
   "id": "7d6ff7eb",
   "metadata": {},
   "source": [
    "#### Confusion Matrix"
   ]
  },
  {
   "cell_type": "code",
   "execution_count": 52,
   "id": "d83a5675",
   "metadata": {},
   "outputs": [
    {
     "data": {
      "image/png": "[encoded data removed]",
      "text/plain": [
       "<Figure size 432x288 with 2 Axes>"
      ]
     },
     "metadata": {
      "needs_background": "light"
     },
     "output_type": "display_data"
    }
   ],
   "source": [
    "# print confusion matrix\n",
    "cm_dtree = confusion_matrix(Y_test, Y_pred_dtree, labels=[1,0])\n",
    "#print('Confusion matrix: \\n\\n', cm_dtree)\n",
    "sns.heatmap(cm_dtree, xticklabels=['>50K','<=50K'], yticklabels=['>50K','<=50K'], annot=True, fmt='g')\n",
    "plt.show()"
   ]
  },
  {
   "cell_type": "markdown",
   "id": "2bc41fc0",
   "metadata": {},
   "source": [
    "##### Observations from confusion matrix:\n",
    "1. True Positive (TP) = 2753; 2753 (53%) of >50K income are correctly classified by the model\n",
    "2. True Negative (TN) = 7451; 7451 (94%) of <=50K income are correctly classified by the model\n",
    "3. False Positive (FP) = 508; 508 of <=50K income are incorrectly classified as belonging to >50K income class\n",
    "4. False Negative (FN) = 2398; 2398 of >50K income are incorrectly classified as belonging to <=50K income class\n",
    "\n",
    "* Type-I error i.e. FP = 508\n",
    "* Type-II error i.e. FN = 2398\n",
    "\n",
    "The model is predicting <=50K with high precision, however it is low for >50K."
   ]
  },
  {
   "cell_type": "markdown",
   "id": "3dbd6851",
   "metadata": {},
   "source": [
    "#### Classification Report"
   ]
  },
  {
   "cell_type": "code",
   "execution_count": 53,
   "id": "76dca9ef",
   "metadata": {},
   "outputs": [
    {
     "name": "stdout",
     "output_type": "stream",
     "text": [
      "Classification report: \n",
      " 1: >50K \n",
      " 0: <=50K \n",
      "               precision    recall  f1-score   support\n",
      "\n",
      "           1       0.53      0.84      0.65      3261\n",
      "           0       0.94      0.76      0.84      9849\n",
      "\n",
      "    accuracy                           0.78     13110\n",
      "   macro avg       0.74      0.80      0.75     13110\n",
      "weighted avg       0.84      0.78      0.79     13110\n",
      "\n"
     ]
    }
   ],
   "source": [
    "# print classification report\n",
    "print('Classification report: \\n 1: >50K \\n 0: <=50K \\n', classification_report(Y_test, Y_pred_dtree, labels=[1,0]))"
   ]
  },
  {
   "cell_type": "markdown",
   "id": "9a1ec79a",
   "metadata": {},
   "source": [
    "##### Observations from classification report:\n",
    "1. As can be seen in the above classification report, the precision of classifying <=50K income is 94% which is quite high as compared to that of >50K income classification which is 53%\n",
    "2. Recall for both <=50K and >50K are 84% and 76% respectively which are good\n",
    "3. The f1-score for both and overall accuracy (78%) of model is good"
   ]
  },
  {
   "cell_type": "markdown",
   "id": "41141bd9",
   "metadata": {},
   "source": [
    "### Model 3 - Gaussian NB Classifier"
   ]
  },
  {
   "cell_type": "code",
   "execution_count": 54,
   "id": "17d557b4",
   "metadata": {},
   "outputs": [
    {
     "data": {
      "text/plain": [
       "GaussianNB()"
      ]
     },
     "execution_count": 54,
     "metadata": {},
     "output_type": "execute_result"
    }
   ],
   "source": [
    "# instantiate the GNB classifier model\n",
    "gnb_model = GaussianNB()\n",
    "\n",
    "# fit the model\n",
    "gnb_model.fit(X_train, Y_train)"
   ]
  },
  {
   "cell_type": "markdown",
   "id": "5f14c833",
   "metadata": {},
   "source": [
    "#### Predict target variable"
   ]
  },
  {
   "cell_type": "code",
   "execution_count": 55,
   "id": "57d04dbb",
   "metadata": {},
   "outputs": [],
   "source": [
    "# predict the target variable for the test data\n",
    "Y_pred_gnb = gnb_model.predict(X_test)"
   ]
  },
  {
   "cell_type": "markdown",
   "id": "02e2554e",
   "metadata": {},
   "source": [
    "#### Training and test accuracy"
   ]
  },
  {
   "cell_type": "code",
   "execution_count": 56,
   "id": "c0b22e9e",
   "metadata": {},
   "outputs": [
    {
     "name": "stdout",
     "output_type": "stream",
     "text": [
      "Training set accuracy score \t: 0.7735\n",
      "Test set accuracy score \t: 0.6752\n"
     ]
    }
   ],
   "source": [
    "# print accuracy scores on training and test set\n",
    "print('Training set accuracy score \\t: {:.4f}'.format(gnb_model.score(X_train, Y_train)))\n",
    "print('Test set accuracy score \\t: {:.4f}'.format(gnb_model.score(X_test, Y_test)))"
   ]
  },
  {
   "cell_type": "markdown",
   "id": "fd698cfe",
   "metadata": {},
   "source": [
    "The above accuracy scores of training and test dataset are significantly varying. So, GNB classifier doesn't seem to predict the income with high accuracy."
   ]
  },
  {
   "cell_type": "markdown",
   "id": "bc54ae3b",
   "metadata": {},
   "source": [
    "#### Loss value"
   ]
  },
  {
   "cell_type": "code",
   "execution_count": 57,
   "id": "7c860a77",
   "metadata": {},
   "outputs": [
    {
     "name": "stdout",
     "output_type": "stream",
     "text": [
      "AUC-ROC score \t: 0.7445\n",
      "Log-loss score \t: 11.2181\n"
     ]
    }
   ],
   "source": [
    "# print loss values\n",
    "print('AUC-ROC score \\t: {:.4f}'.format(roc_auc_score(Y_test, Y_pred_gnb)))\n",
    "print('Log-loss score \\t: {:.4f}'.format(log_loss(Y_test, Y_pred_gnb)))"
   ]
  },
  {
   "cell_type": "markdown",
   "id": "956cecca",
   "metadata": {},
   "source": [
    "AUC value is high i.e. 0.74 (>> 0.5) which shows that the area ROC curve is high and that prediction mode is good. However, the log loss value of this classifier is very high as compared to that of Logistic Regression and Decision Tree classifier."
   ]
  },
  {
   "cell_type": "markdown",
   "id": "71ab7cc5",
   "metadata": {},
   "source": [
    "### Performance Evaluation"
   ]
  },
  {
   "cell_type": "markdown",
   "id": "004cd11c",
   "metadata": {},
   "source": [
    "#### Confusion Matrix"
   ]
  },
  {
   "cell_type": "code",
   "execution_count": 58,
   "id": "ced008ff",
   "metadata": {},
   "outputs": [
    {
     "data": {
      "image/png": "[encoded data removed]",
      "text/plain": [
       "<Figure size 432x288 with 2 Axes>"
      ]
     },
     "metadata": {
      "needs_background": "light"
     },
     "output_type": "display_data"
    }
   ],
   "source": [
    "# print confusion matrix\n",
    "cm_gnb = confusion_matrix(Y_test, Y_pred_gnb, labels=[1,0])\n",
    "#print('Confusion matrix: \\n\\n', cm_dtree)\n",
    "sns.heatmap(cm_gnb, xticklabels=['>50K','<=50K'], yticklabels=['>50K','<=50K'], annot=True, fmt='g')\n",
    "plt.show()"
   ]
  },
  {
   "cell_type": "markdown",
   "id": "5c43a54d",
   "metadata": {},
   "source": [
    "#### Observations from confusion matrix:\n",
    "1. True Positive (TP) = 2877; 2877 (43%) of >50K income are correctly classified by the model\n",
    "2. True Negative (TN) = 5975; 5975 (94%) of <=50K income are correctly classified by the model\n",
    "3. False Positive (FP) = 384; 384 of <=50K income are incorrectly classified as belonging to >50K income class\n",
    "4. False Negative (FN) = 3874; 3874 of >50K income are incorrectly classified as belonging to <=50K income class\n",
    "\n",
    "* Type-I error i.e. FP = 384\n",
    "* Type-II error i.e. FN = 3874\n",
    "\n",
    "The model is predicting <=50K with high precision, however it is low for >50K."
   ]
  },
  {
   "cell_type": "markdown",
   "id": "76e19680",
   "metadata": {},
   "source": [
    "#### Classification Report"
   ]
  },
  {
   "cell_type": "code",
   "execution_count": 59,
   "id": "09785498",
   "metadata": {},
   "outputs": [
    {
     "name": "stdout",
     "output_type": "stream",
     "text": [
      "Classification report: \n",
      " 1: >50K \n",
      " 0: <=50K \n",
      "               precision    recall  f1-score   support\n",
      "\n",
      "           1       0.43      0.88      0.57      3261\n",
      "           0       0.94      0.61      0.74      9849\n",
      "\n",
      "    accuracy                           0.68     13110\n",
      "   macro avg       0.68      0.74      0.66     13110\n",
      "weighted avg       0.81      0.68      0.70     13110\n",
      "\n"
     ]
    }
   ],
   "source": [
    "# print classification report\n",
    "print('Classification report: \\n 1: >50K \\n 0: <=50K \\n', classification_report(Y_test, Y_pred_gnb, labels=[1,0]))"
   ]
  },
  {
   "cell_type": "markdown",
   "id": "e8707068",
   "metadata": {},
   "source": [
    "##### Observations from classification report:\n",
    "1. As can be seen in the above classification report, the precision of classifying <=50K income is 94% which is quite high as compared to that of >50K income classification which is 43%\n",
    "2. Recall for both <=50K and >50K are 88% and 61% respectively which are not that bad\n",
    "3. The f1-score for both and overall accuracy (88%) is poor as compared to that of Logictic Regression and Decision Tree classifier"
   ]
  },
  {
   "cell_type": "markdown",
   "id": "082d6221",
   "metadata": {},
   "source": [
    "### Hyper-parameter tuning of above 3 models to improve the results"
   ]
  },
  {
   "cell_type": "markdown",
   "id": "610f9e21",
   "metadata": {},
   "source": [
    "Unlike having one cell for explaining each step i.e. modeling, prediction, accuracy printing, confusion matrix and classification report done above for the 3 models chosen, the code per iteration of learning, test and results is placed within a single cell to keep the document simple and logical."
   ]
  },
  {
   "cell_type": "markdown",
   "id": "1f494e85",
   "metadata": {},
   "source": [
    "#### 1. Logistic Regression - iteration 2,3,4"
   ]
  },
  {
   "cell_type": "markdown",
   "id": "2a8fc688",
   "metadata": {},
   "source": [
    "Hyper-parameters chosen:\n",
    "1. max_iter = 1000, then 1500 and 2000\n",
    "2. solver = lbfgs"
   ]
  },
  {
   "cell_type": "code",
   "execution_count": 60,
   "id": "b466834a",
   "metadata": {},
   "outputs": [
    {
     "name": "stderr",
     "output_type": "stream",
     "text": [
      "C:\\Users\\A621011\\Anaconda3\\lib\\site-packages\\sklearn\\linear_model\\_logistic.py:763: ConvergenceWarning: lbfgs failed to converge (status=1):\n",
      "STOP: TOTAL NO. of ITERATIONS REACHED LIMIT.\n",
      "\n",
      "Increase the number of iterations (max_iter) or scale the data as shown in:\n",
      "    https://scikit-learn.org/stable/modules/preprocessing.html\n",
      "Please also refer to the documentation for alternative solver options:\n",
      "    https://scikit-learn.org/stable/modules/linear_model.html#logistic-regression\n",
      "  n_iter_i = _check_optimize_result(\n"
     ]
    },
    {
     "name": "stdout",
     "output_type": "stream",
     "text": [
      "AUC-ROC score \t: 0.7922\n",
      "Log-loss score \t: 6.1596\n",
      "Training set accuracy score \t: 0.8527\n",
      "Test set accuracy scoree \t: 0.8217\n"
     ]
    },
    {
     "data": {
      "image/png": "[encoded data removed]",
      "text/plain": [
       "<Figure size 432x288 with 2 Axes>"
      ]
     },
     "metadata": {
      "needs_background": "light"
     },
     "output_type": "display_data"
    },
    {
     "name": "stdout",
     "output_type": "stream",
     "text": [
      "Classification report: \n",
      " 1: >50K \n",
      " 0: <=50K \n",
      "               precision    recall  f1-score   support\n",
      "\n",
      "           1       0.62      0.73      0.67      3261\n",
      "           0       0.91      0.85      0.88      9849\n",
      "\n",
      "    accuracy                           0.82     13110\n",
      "   macro avg       0.76      0.79      0.77     13110\n",
      "weighted avg       0.83      0.82      0.83     13110\n",
      "\n"
     ]
    }
   ],
   "source": [
    "# re-run logistic regression with updated hyper-parameters\n",
    "\n",
    "# initialize logistic regression model and train\n",
    "logistic_model = LogisticRegression(max_iter=1000, solver='lbfgs')\n",
    "\n",
    "# Train the model\n",
    "logistic_model.fit(X_train, Y_train)\n",
    "\n",
    "# predict the target variable for the test data\n",
    "Y_pred_log = logistic_model.predict(X_test)\n",
    "\n",
    "# print loss values\n",
    "print('AUC-ROC score \\t: {:.4f}'.format(roc_auc_score(Y_test, Y_pred_log)))\n",
    "print('Log-loss score \\t: {:.4f}'.format(log_loss(Y_test, Y_pred_log)))\n",
    "\n",
    "# print training and test accuracy\n",
    "print('Training set accuracy score \\t: {:.4f}'.format(logistic_model.score(X_train, Y_train)))\n",
    "print('Test set accuracy scoree \\t: {:.4f}'.format(logistic_model.score(X_test, Y_test)))\n",
    "\n",
    "# print confusion matrix\n",
    "cm_logistic = confusion_matrix(Y_test, Y_pred_log, labels=[1,0]) \n",
    "#print('\\nConfusion matrix:\\n\\n', cm_logistic)\n",
    "sns.heatmap(cm_logistic, xticklabels=['>50K','<=50K'], yticklabels=['>50K','<=50K'], annot=True, fmt='g')\n",
    "plt.show()\n",
    "\n",
    "# print classification report\n",
    "print('Classification report: \\n 1: >50K \\n 0: <=50K \\n', classification_report(Y_test, Y_pred_log, labels=[1,0]))"
   ]
  },
  {
   "cell_type": "markdown",
   "id": "d3ab7b6f",
   "metadata": {},
   "source": [
    "Observations: Cosmetic improvements in results, however the model is not converging with max_iters = 1000 as well."
   ]
  },
  {
   "cell_type": "markdown",
   "id": "637b25a5",
   "metadata": {},
   "source": [
    "We increased max_iters increased to 1500 and then to 2000 but the model was still not converging, and also, there was no significant change observed in accuracy, precision and recall values."
   ]
  },
  {
   "cell_type": "markdown",
   "id": "8ec54712",
   "metadata": {},
   "source": [
    "#### 2. Logistic Regression - iteration 5, 6, 7"
   ]
  },
  {
   "cell_type": "markdown",
   "id": "5efed639",
   "metadata": {},
   "source": [
    "Hyper-parameters chosen:\n",
    "1. max_iter = 500, then 1000, 1500 and 2000\n",
    "2. solver = liblinear"
   ]
  },
  {
   "cell_type": "code",
   "execution_count": 61,
   "id": "aeaac203",
   "metadata": {},
   "outputs": [
    {
     "name": "stdout",
     "output_type": "stream",
     "text": [
      "AUC-ROC score \t: 0.7928\n",
      "Log-loss score \t: 6.1465\n",
      "Training set accuracy score \t: 0.8524\n",
      "Test set accuracy scoree \t: 0.8220\n"
     ]
    },
    {
     "data": {
      "image/png": "[encoded data removed]",
      "text/plain": [
       "<Figure size 432x288 with 2 Axes>"
      ]
     },
     "metadata": {
      "needs_background": "light"
     },
     "output_type": "display_data"
    },
    {
     "name": "stdout",
     "output_type": "stream",
     "text": [
      "Classification report: \n",
      " 1: >50K \n",
      " 0: <=50K \n",
      "               precision    recall  f1-score   support\n",
      "\n",
      "           1       0.62      0.73      0.67      3261\n",
      "           0       0.91      0.85      0.88      9849\n",
      "\n",
      "    accuracy                           0.82     13110\n",
      "   macro avg       0.76      0.79      0.78     13110\n",
      "weighted avg       0.84      0.82      0.83     13110\n",
      "\n"
     ]
    }
   ],
   "source": [
    "# re-run logistic regression with updated hyper-parameters\n",
    "\n",
    "# initialize logistic regression model and train\n",
    "logistic_model = LogisticRegression(max_iter=500, solver='liblinear')\n",
    "\n",
    "# Train the model\n",
    "logistic_model.fit(X_train, Y_train)\n",
    "\n",
    "# predict the target variable for the test data\n",
    "Y_pred_log = logistic_model.predict(X_test)\n",
    "\n",
    "# print loss values\n",
    "print('AUC-ROC score \\t: {:.4f}'.format(roc_auc_score(Y_test, Y_pred_log)))\n",
    "print('Log-loss score \\t: {:.4f}'.format(log_loss(Y_test, Y_pred_log)))\n",
    "\n",
    "# print training and test accuracy\n",
    "print('Training set accuracy score \\t: {:.4f}'.format(logistic_model.score(X_train, Y_train)))\n",
    "print('Test set accuracy scoree \\t: {:.4f}'.format(logistic_model.score(X_test, Y_test)))\n",
    "\n",
    "# print confusion matrix\n",
    "cm_logistic = confusion_matrix(Y_test, Y_pred_log, labels=[1,0]) \n",
    "#print('\\nConfusion matrix:\\n\\n', cm_logistic)\n",
    "sns.heatmap(cm_logistic, xticklabels=['>50K','<=50K'], yticklabels=['>50K','<=50K'], annot=True, fmt='g')\n",
    "plt.show()\n",
    "\n",
    "# print classification report\n",
    "print('Classification report: \\n 1: >50K \\n 0: <=50K \\n', classification_report(Y_test, Y_pred_log, labels=[1,0]))"
   ]
  },
  {
   "cell_type": "markdown",
   "id": "4512f627",
   "metadata": {},
   "source": [
    "Observations: No improvements seen in the results. We tried increasing the max_iters to 1000, 1500 and 2000 but the results were same."
   ]
  },
  {
   "cell_type": "markdown",
   "id": "580bac6e",
   "metadata": {},
   "source": [
    "#### 3. Logistic Regression - iteration 8, 9, 10, 11"
   ]
  },
  {
   "cell_type": "markdown",
   "id": "41f771fe",
   "metadata": {},
   "source": [
    "Hyper-parameters chosen:\n",
    "1. max_iter = 500, then 1000, 1500 and 2000\n",
    "2. solver = liblinear, sag, saga and newton-cg\n",
    "\n",
    "Tried above solver and max_iter values with various combinations of penalty values but there was no improvement in the results."
   ]
  },
  {
   "cell_type": "markdown",
   "id": "1b3a794f",
   "metadata": {},
   "source": [
    "#### 4. Decision Tree Classifier - iteration 2"
   ]
  },
  {
   "cell_type": "markdown",
   "id": "368af265",
   "metadata": {},
   "source": [
    "Hyper-parameters chosen:\n",
    "1. criterion = entropy\n",
    "2. max_depth = 5"
   ]
  },
  {
   "cell_type": "code",
   "execution_count": 62,
   "id": "b84406f2",
   "metadata": {},
   "outputs": [
    {
     "name": "stdout",
     "output_type": "stream",
     "text": [
      "AUC-ROC score \t: 0.8002\n",
      "Log-loss score \t: 7.5455\n",
      "Training set accuracy score \t: 0.7929\n",
      "Test set accuracy score \t: 0.7815\n"
     ]
    },
    {
     "data": {
      "image/png": "[encoded data removed]",
      "text/plain": [
       "<Figure size 432x288 with 2 Axes>"
      ]
     },
     "metadata": {
      "needs_background": "light"
     },
     "output_type": "display_data"
    },
    {
     "name": "stdout",
     "output_type": "stream",
     "text": [
      "Classification report: \n",
      " 1: >50K \n",
      " 0: <=50K \n",
      "               precision    recall  f1-score   support\n",
      "\n",
      "           1       0.54      0.84      0.66      3261\n",
      "           0       0.93      0.76      0.84      9849\n",
      "\n",
      "    accuracy                           0.78     13110\n",
      "   macro avg       0.74      0.80      0.75     13110\n",
      "weighted avg       0.84      0.78      0.79     13110\n",
      "\n"
     ]
    }
   ],
   "source": [
    "# re-run decision tree classifier with updated hyper-parameters\n",
    "\n",
    "# instantiate the DecisionTreeClassifier model\n",
    "dtree_model = DecisionTreeClassifier(criterion='entropy', max_depth=5)\n",
    "\n",
    "# fit the model\n",
    "dtree_model.fit(X_train, Y_train)\n",
    "\n",
    "# predict test results\n",
    "Y_pred_dtree = dtree_model.predict(X_test)\n",
    "\n",
    "# print loss values\n",
    "print('AUC-ROC score \\t: {:.4f}'.format(roc_auc_score(Y_test, Y_pred_dtree)))\n",
    "print('Log-loss score \\t: {:.4f}'.format(log_loss(Y_test, Y_pred_dtree)))\n",
    "\n",
    "# print accuracy scores on training and test set\n",
    "print('Training set accuracy score \\t: {:.4f}'.format(dtree_model.score(X_train, Y_train)))\n",
    "print('Test set accuracy score \\t: {:.4f}'.format(dtree_model.score(X_test, Y_test)))\n",
    "\n",
    "# print confusion matrix\n",
    "cm_dtree = confusion_matrix(Y_test, Y_pred_dtree, labels=[1,0])\n",
    "#print('Confusion matrix: \\n\\n', cm_dtree)\n",
    "sns.heatmap(cm_dtree, xticklabels=['>50K','<=50K'], yticklabels=['>50K','<=50K'], annot=True, fmt='g')\n",
    "plt.show()\n",
    "\n",
    "# print classification report\n",
    "print('Classification report: \\n 1: >50K \\n 0: <=50K \\n', classification_report(Y_test, Y_pred_dtree, labels=[1,0]))"
   ]
  },
  {
   "cell_type": "markdown",
   "id": "e6ffc6b9",
   "metadata": {},
   "source": [
    "Observations: No significant improvements in results seen."
   ]
  },
  {
   "cell_type": "markdown",
   "id": "6edcf051",
   "metadata": {},
   "source": [
    "#### 5. Decision Tree Classifier - iteration 3"
   ]
  },
  {
   "cell_type": "markdown",
   "id": "2b4dad29",
   "metadata": {},
   "source": [
    "Hyper-parameters chosen:\n",
    "1. criterion = gini\n",
    "2. max_depth = 5\n",
    "3. random_state = multiple values chosen iteratively"
   ]
  },
  {
   "cell_type": "code",
   "execution_count": 63,
   "id": "2bc389e3",
   "metadata": {},
   "outputs": [
    {
     "name": "stdout",
     "output_type": "stream",
     "text": [
      "Training set accuracy score \t: 0.7949\n",
      "Test set accuracy score \t: 0.7783\n"
     ]
    },
    {
     "data": {
      "image/png": "[encoded data removed]",
      "text/plain": [
       "<Figure size 432x288 with 2 Axes>"
      ]
     },
     "metadata": {
      "needs_background": "light"
     },
     "output_type": "display_data"
    },
    {
     "name": "stdout",
     "output_type": "stream",
     "text": [
      "Classification report: \n",
      " 1: >50K \n",
      " 0: <=50K \n",
      "               precision    recall  f1-score   support\n",
      "\n",
      "           1       0.53      0.84      0.65      3261\n",
      "           0       0.94      0.76      0.84      9849\n",
      "\n",
      "    accuracy                           0.78     13110\n",
      "   macro avg       0.74      0.80      0.75     13110\n",
      "weighted avg       0.84      0.78      0.79     13110\n",
      "\n"
     ]
    }
   ],
   "source": [
    "# re-run decision tree classifier with updated hyper-parameters\n",
    "\n",
    "# instantiate the DecisionTreeClassifier model\n",
    "dtree_model = DecisionTreeClassifier(criterion='gini', max_depth=5, random_state=3)\n",
    "\n",
    "# fit the model\n",
    "dtree_model.fit(X_train, Y_train)\n",
    "\n",
    "# predict test results\n",
    "Y_pred_dtree = dtree_model.predict(X_test)\n",
    "\n",
    "# print accuracy scores on training and test set\n",
    "print('Training set accuracy score \\t: {:.4f}'.format(dtree_model.score(X_train, Y_train)))\n",
    "print('Test set accuracy score \\t: {:.4f}'.format(dtree_model.score(X_test, Y_test)))\n",
    "\n",
    "# print confusion matrix\n",
    "cm_dtree = confusion_matrix(Y_test, Y_pred_dtree, labels=[1,0])\n",
    "#print('Confusion matrix: \\n\\n', cm_dtree)\n",
    "sns.heatmap(cm_dtree, xticklabels=['>50K','<=50K'], yticklabels=['>50K','<=50K'], annot=True, fmt='g')\n",
    "plt.show()\n",
    "\n",
    "# print classification report\n",
    "print('Classification report: \\n 1: >50K \\n 0: <=50K \\n', classification_report(Y_test, Y_pred_dtree, labels=[1,0]))"
   ]
  },
  {
   "cell_type": "markdown",
   "id": "6d179c4a",
   "metadata": {},
   "source": [
    "Observations: No significant improvements in results seen. Various combinations of random_state and criterion were chosen."
   ]
  },
  {
   "cell_type": "markdown",
   "id": "3361d738",
   "metadata": {},
   "source": [
    "#### 6. Decision Tree Classifier - iteration 4"
   ]
  },
  {
   "cell_type": "markdown",
   "id": "540a9af1",
   "metadata": {},
   "source": [
    "Hyper-parameters chosen:\n",
    "1. criterion = gini\n",
    "2. max_depth = 7, then 8, 9\n",
    "3. random_state = multiple values chosen iteratively"
   ]
  },
  {
   "cell_type": "code",
   "execution_count": 64,
   "id": "61dee4d5",
   "metadata": {},
   "outputs": [
    {
     "name": "stdout",
     "output_type": "stream",
     "text": [
      "AUC-ROC score \t: 0.7956\n",
      "Log-loss score \t: 7.3874\n",
      "Training set accuracy score \t: 0.8276\n",
      "Test set accuracy score \t: 0.7861\n"
     ]
    },
    {
     "data": {
      "image/png": "[encoded data removed]",
      "text/plain": [
       "<Figure size 432x288 with 2 Axes>"
      ]
     },
     "metadata": {
      "needs_background": "light"
     },
     "output_type": "display_data"
    },
    {
     "name": "stdout",
     "output_type": "stream",
     "text": [
      "Classification report: \n",
      " 1: >50K \n",
      " 0: <=50K \n",
      "               precision    recall  f1-score   support\n",
      "\n",
      "           1       0.55      0.81      0.65      3261\n",
      "           0       0.93      0.78      0.85      9849\n",
      "\n",
      "    accuracy                           0.79     13110\n",
      "   macro avg       0.74      0.80      0.75     13110\n",
      "weighted avg       0.83      0.79      0.80     13110\n",
      "\n"
     ]
    }
   ],
   "source": [
    "# re-run decision tree classifier with updated hyper-parameters\n",
    "\n",
    "# instantiate the DecisionTreeClassifier model\n",
    "dtree_model = DecisionTreeClassifier(criterion='gini', max_depth=7, random_state=42)\n",
    "\n",
    "# fit the model\n",
    "dtree_model.fit(X_train, Y_train)\n",
    "\n",
    "# predict test results\n",
    "Y_pred_dtree = dtree_model.predict(X_test)\n",
    "\n",
    "# print loss values\n",
    "print('AUC-ROC score \\t: {:.4f}'.format(roc_auc_score(Y_test, Y_pred_dtree)))\n",
    "print('Log-loss score \\t: {:.4f}'.format(log_loss(Y_test, Y_pred_dtree)))\n",
    "\n",
    "# print accuracy scores on training and test set\n",
    "print('Training set accuracy score \\t: {:.4f}'.format(dtree_model.score(X_train, Y_train)))\n",
    "print('Test set accuracy score \\t: {:.4f}'.format(dtree_model.score(X_test, Y_test)))\n",
    "\n",
    "# print confusion matrix\n",
    "cm_dtree = confusion_matrix(Y_test, Y_pred_dtree, labels=[1,0])\n",
    "#print('Confusion matrix: \\n\\n', cm_dtree)\n",
    "sns.heatmap(cm_dtree, xticklabels=['>50K','<=50K'], yticklabels=['>50K','<=50K'], annot=True, fmt='g')\n",
    "plt.show()\n",
    "\n",
    "# print classification report\n",
    "print('Classification report: \\n 1: >50K \\n 0: <=50K \\n', classification_report(Y_test, Y_pred_dtree, labels=[1,0]))"
   ]
  },
  {
   "cell_type": "markdown",
   "id": "12f8b963",
   "metadata": {},
   "source": [
    "Observations: After changing the max_depth value to 7, minor improvement in precision of >50k income and the overall accuracy were observed. Then we changes the max_depth value to 8 and 9 but no improvements were noticed.\n",
    "* The above combination has given us best results from Decision Tree Classifier so far."
   ]
  },
  {
   "cell_type": "markdown",
   "id": "8040eba3",
   "metadata": {},
   "source": [
    "#### 7. Gaussian NB Classifier - iteration 2"
   ]
  },
  {
   "cell_type": "markdown",
   "id": "c9501843",
   "metadata": {},
   "source": [
    "Hyper-parameters chosen:\n",
    "1. var_smoothing = 1e-06, then 1e-07 and then 1e-08"
   ]
  },
  {
   "cell_type": "code",
   "execution_count": 65,
   "id": "6124b07d",
   "metadata": {},
   "outputs": [
    {
     "name": "stdout",
     "output_type": "stream",
     "text": [
      "AUC-ROC score \t: 0.7446\n",
      "Log-loss score \t: 11.2102\n",
      "Training set accuracy score \t: 0.7736\n",
      "Test set accuracy score \t: 0.6754\n"
     ]
    },
    {
     "data": {
      "image/png": "[encoded data removed]",
      "text/plain": [
       "<Figure size 432x288 with 2 Axes>"
      ]
     },
     "metadata": {
      "needs_background": "light"
     },
     "output_type": "display_data"
    },
    {
     "name": "stdout",
     "output_type": "stream",
     "text": [
      "Classification report: \n",
      " 1: >50K \n",
      " 0: <=50K \n",
      "               precision    recall  f1-score   support\n",
      "\n",
      "           1       0.43      0.88      0.57      3261\n",
      "           0       0.94      0.61      0.74      9849\n",
      "\n",
      "    accuracy                           0.68     13110\n",
      "   macro avg       0.68      0.74      0.66     13110\n",
      "weighted avg       0.81      0.68      0.70     13110\n",
      "\n"
     ]
    }
   ],
   "source": [
    "# re-run Gaussian NB classifier with updated hyper-parameters\n",
    "\n",
    "# instantiate the GaussianNB model\n",
    "gnb_model = GaussianNB(var_smoothing=1e-08)\n",
    "\n",
    "# fit the model\n",
    "gnb_model.fit(X_train, Y_train)\n",
    "\n",
    "# predict test results\n",
    "Y_pred_gnb = gnb_model.predict(X_test)\n",
    "\n",
    "# print loss values\n",
    "print('AUC-ROC score \\t: {:.4f}'.format(roc_auc_score(Y_test, Y_pred_gnb)))\n",
    "print('Log-loss score \\t: {:.4f}'.format(log_loss(Y_test, Y_pred_gnb)))\n",
    "\n",
    "# print accuracy scores on training and test set\n",
    "print('Training set accuracy score \\t: {:.4f}'.format(gnb_model.score(X_train, Y_train)))\n",
    "print('Test set accuracy score \\t: {:.4f}'.format(gnb_model.score(X_test, Y_test)))\n",
    "\n",
    "# print confusion matrix\n",
    "cm_gnb = confusion_matrix(Y_test, Y_pred_gnb, labels=[1,0])\n",
    "#print('Confusion matrix: \\n\\n', cm_gnb)\n",
    "sns.heatmap(cm_gnb, xticklabels=['>50K','<=50K'], yticklabels=['>50K','<=50K'], annot=True, fmt='g')\n",
    "plt.show()\n",
    "\n",
    "# print classification report\n",
    "print('Classification report: \\n 1: >50K \\n 0: <=50K \\n', classification_report(Y_test, Y_pred_gnb, labels=[1,0]))"
   ]
  },
  {
   "cell_type": "markdown",
   "id": "8b0d72bd",
   "metadata": {},
   "source": [
    "Observations: No significant improvements in accuracy or precision observed."
   ]
  },
  {
   "cell_type": "markdown",
   "id": "32991605",
   "metadata": {},
   "source": [
    "#### 7. Gaussian NB Classifier - iteration 3"
   ]
  },
  {
   "cell_type": "markdown",
   "id": "f1568738",
   "metadata": {},
   "source": [
    "Hyper-parameters chosen:\n",
    "1. var_smoothing = 1e-10, then 1e-11 and then 1e-12"
   ]
  },
  {
   "cell_type": "code",
   "execution_count": 66,
   "id": "b05e7a43",
   "metadata": {},
   "outputs": [
    {
     "name": "stdout",
     "output_type": "stream",
     "text": [
      "AUC-ROC score \t: 0.7445\n",
      "Log-loss score \t: 11.2181\n",
      "Training set accuracy score \t: 0.7735\n",
      "Test set accuracy score \t: 0.6752\n"
     ]
    },
    {
     "data": {
      "image/png": "[encoded data removed]",
      "text/plain": [
       "<Figure size 432x288 with 2 Axes>"
      ]
     },
     "metadata": {
      "needs_background": "light"
     },
     "output_type": "display_data"
    },
    {
     "name": "stdout",
     "output_type": "stream",
     "text": [
      "Classification report: \n",
      " 1: >50K \n",
      " 0: <=50K \n",
      "               precision    recall  f1-score   support\n",
      "\n",
      "           1       0.43      0.88      0.57      3261\n",
      "           0       0.94      0.61      0.74      9849\n",
      "\n",
      "    accuracy                           0.68     13110\n",
      "   macro avg       0.68      0.74      0.66     13110\n",
      "weighted avg       0.81      0.68      0.70     13110\n",
      "\n"
     ]
    }
   ],
   "source": [
    "# re-run Gaussian NB classifier with updated hyper-parameters\n",
    "\n",
    "# instantiate the GaussianNB model\n",
    "gnb_model = GaussianNB(var_smoothing=1e-12)\n",
    "\n",
    "# fit the model\n",
    "gnb_model.fit(X_train, Y_train)\n",
    "\n",
    "# predict test results\n",
    "Y_pred_gnb = gnb_model.predict(X_test)\n",
    "\n",
    "# print loss values\n",
    "print('AUC-ROC score \\t: {:.4f}'.format(roc_auc_score(Y_test, Y_pred_gnb)))\n",
    "print('Log-loss score \\t: {:.4f}'.format(log_loss(Y_test, Y_pred_gnb)))\n",
    "\n",
    "# print accuracy scores on training and test set\n",
    "print('Training set accuracy score \\t: {:.4f}'.format(gnb_model.score(X_train, Y_train)))\n",
    "print('Test set accuracy score \\t: {:.4f}'.format(gnb_model.score(X_test, Y_test)))\n",
    "\n",
    "# print confusion matrix\n",
    "cm_gnb = confusion_matrix(Y_test, Y_pred_gnb, labels=[1,0])\n",
    "#print('Confusion matrix: \\n\\n', cm_gnb)\n",
    "sns.heatmap(cm_gnb, xticklabels=['>50K','<=50K'], yticklabels=['>50K','<=50K'], annot=True, fmt='g')\n",
    "plt.show()\n",
    "\n",
    "# print classification report\n",
    "print('Classification report: \\n 1: >50K \\n 0: <=50K \\n', classification_report(Y_test, Y_pred_gnb, labels=[1,0]))"
   ]
  },
  {
   "cell_type": "markdown",
   "id": "b9106628",
   "metadata": {},
   "source": [
    "Observations: No significant change in results compared to the first run"
   ]
  },
  {
   "cell_type": "markdown",
   "id": "de460e2c",
   "metadata": {},
   "source": [
    "------------------------------------------------------------------------------------------------"
   ]
  },
  {
   "cell_type": "markdown",
   "id": "beac88cf",
   "metadata": {},
   "source": [
    "### Conclusion"
   ]
  },
  {
   "cell_type": "markdown",
   "id": "15d9895e",
   "metadata": {},
   "source": [
    "#### Gaussian NB Classifier:\n",
    "This model was the least successful model as the data and predicts income >50k with the lowest precision. The log loss (11.21) is very high as compared to the other two models. The best overall accuracy achieved from this model was 68% (of which 43% of >50K and 94% of <=50K).\n",
    "\n",
    "#### Decision Tree:\n",
    "This model worked better as compared to the Gaussian NB Classifier. The log loss value of this model was 7.38 which is better than that of GNB classifier, the overall accuracy was 79% (of which 55% of >50K and 93% of <=50K) which is also better as compared to GNB classifier.\n",
    "\n",
    "#### Logistic Regression:\n",
    "This model worked the best out of all of our models giving the highest accuracy and least log loss. It was also predicting >50K income class at significant levels compared to the other two. It delivered lod loss of 6.14 and overall accuracy of 82% which includes 62% and 91% precision of >50K income and <=50K income respectively.\n",
    "\n",
    "The type I and type II errors were also least for Logistic Regression model among the three which we used.\n",
    "\n",
    "#### Training & Test Errors:\n",
    "\n",
    "|Classifier|Train Error|Test Error|Log Loss|\n",
    "|:---|:---|:---|:---|\n",
    "|Logistic Regression|15.8%|17.8%|6.14|\n",
    "|Decision Tree|17.2%|21.4%|7.38|\n",
    "|Gaussian Naive Bayes|22.6%|32.5%|11.21|\n",
    "\n",
    "- Train Error = (1 - Training accuracy)*100\n",
    "- Test Error = (1 - Test accuracy)*100"
   ]
  }
 ],
 "metadata": {
  "kernelspec": {
   "display_name": "Python 3 (ipykernel)",
   "language": "python",
   "name": "python3"
  },
  "language_info": {
   "codemirror_mode": {
    "name": "ipython",
    "version": 3
   },
   "file_extension": ".py",
   "mimetype": "text/x-python",
   "name": "python",
   "nbconvert_exporter": "python",
   "pygments_lexer": "ipython3",
   "version": "3.9.12"
  }
 },
 "nbformat": 4,
 "nbformat_minor": 5
}
